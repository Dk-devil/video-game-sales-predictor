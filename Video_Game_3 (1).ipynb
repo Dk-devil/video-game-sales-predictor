{
 "cells": [
  {
   "cell_type": "markdown",
   "id": "882a166c",
   "metadata": {
    "id": "882a166c"
   },
   "source": [
    "# Video Game Sales Prediction and Classification"
   ]
  },
  {
   "cell_type": "markdown",
   "id": "247fe788",
   "metadata": {
    "id": "247fe788"
   },
   "source": [
    "# Project Description:\n",
    "\n",
    "As an intern at Acme Software Lab in data science team, we are tasked with analyzing a video game sales dataset and performing various predictive modeling and classification tasks. The dataset contains information about video game sales worldwide, including factors such as critic and user reviews, genre, platform, and more. Your goal will be to predict the sales performance of video games worldwide, classify and cluster video games based on categorical variables, and answer specific questions related to the dataset. This project will involve data preprocessing, exploratory data analysis (EDA), model development, deployment, and hosting on Streamlit.\n",
    "\n",
    "Dataset Link: https://www.kaggle.com/datasets/ibriiee/video-games-sales-dataset-2022-updated-extra-feat\n"
   ]
  },
  {
   "cell_type": "markdown",
   "id": "d6ed82c5",
   "metadata": {
    "id": "d6ed82c5"
   },
   "source": [
    "## Dataset description\n",
    "\n",
    "This dataset is publicly available and free to use on Kaggle.\n",
    "\n",
    "Attribute Information:\n",
    "1. Name\n",
    "2. Platform\n",
    "3. Year\n",
    "4. Genre\n",
    "5. Publisher\n",
    "6. NA_Sales\n",
    "7. EU_Sales\n",
    "8. JP_Sales\n",
    "9. Other_Sales\n",
    "10. Global_Sales\n",
    "11. Critic_Score\n",
    "12. Critic_Count\n",
    "13. User_Score\n",
    "14. User_Count\n",
    "15. Developer\n",
    "16. Rating"
   ]
  },
  {
   "cell_type": "markdown",
   "id": "31a42518",
   "metadata": {
    "id": "31a42518"
   },
   "source": [
    "## \tData Cleaning and Preprocessing"
   ]
  },
  {
   "cell_type": "code",
   "execution_count": 2,
   "id": "CNT7SgKnITHv",
   "metadata": {
    "colab": {
     "base_uri": "https://localhost:8080/"
    },
    "id": "CNT7SgKnITHv",
    "outputId": "fcc51fc3-1652-47cb-b4c8-14db15a2e4a1"
   },
   "outputs": [],
   "source": [
    "#from google.colab import drive\n",
    "#drive.mount('/content/drive')"
   ]
  },
  {
   "cell_type": "code",
   "execution_count": 3,
   "id": "1427c0f8",
   "metadata": {
    "colab": {
     "base_uri": "https://localhost:8080/",
     "height": 617
    },
    "id": "1427c0f8",
    "outputId": "504d5a95-bc33-40a6-fed8-306c88250bcc"
   },
   "outputs": [
    {
     "data": {
      "text/html": [
       "<div>\n",
       "<style scoped>\n",
       "    .dataframe tbody tr th:only-of-type {\n",
       "        vertical-align: middle;\n",
       "    }\n",
       "\n",
       "    .dataframe tbody tr th {\n",
       "        vertical-align: top;\n",
       "    }\n",
       "\n",
       "    .dataframe thead th {\n",
       "        text-align: right;\n",
       "    }\n",
       "</style>\n",
       "<table border=\"1\" class=\"dataframe\">\n",
       "  <thead>\n",
       "    <tr style=\"text-align: right;\">\n",
       "      <th></th>\n",
       "      <th>Name</th>\n",
       "      <th>Platform</th>\n",
       "      <th>Year_of_Release</th>\n",
       "      <th>Genre</th>\n",
       "      <th>Publisher</th>\n",
       "      <th>NA_Sales</th>\n",
       "      <th>EU_Sales</th>\n",
       "      <th>JP_Sales</th>\n",
       "      <th>Other_Sales</th>\n",
       "      <th>Global_Sales</th>\n",
       "      <th>Critic_Score</th>\n",
       "      <th>Critic_Count</th>\n",
       "      <th>User_Score</th>\n",
       "      <th>User_Count</th>\n",
       "      <th>Developer</th>\n",
       "      <th>Rating</th>\n",
       "    </tr>\n",
       "  </thead>\n",
       "  <tbody>\n",
       "    <tr>\n",
       "      <th>0</th>\n",
       "      <td>Wii Sports</td>\n",
       "      <td>Wii</td>\n",
       "      <td>2006.0</td>\n",
       "      <td>Sports</td>\n",
       "      <td>Nintendo</td>\n",
       "      <td>41.36</td>\n",
       "      <td>28.96</td>\n",
       "      <td>3.77</td>\n",
       "      <td>8.45</td>\n",
       "      <td>82.53</td>\n",
       "      <td>76.0</td>\n",
       "      <td>51.0</td>\n",
       "      <td>8</td>\n",
       "      <td>322.0</td>\n",
       "      <td>Nintendo</td>\n",
       "      <td>E</td>\n",
       "    </tr>\n",
       "    <tr>\n",
       "      <th>1</th>\n",
       "      <td>Super Mario Bros.</td>\n",
       "      <td>NES</td>\n",
       "      <td>1985.0</td>\n",
       "      <td>Platform</td>\n",
       "      <td>Nintendo</td>\n",
       "      <td>29.08</td>\n",
       "      <td>3.58</td>\n",
       "      <td>6.81</td>\n",
       "      <td>0.77</td>\n",
       "      <td>40.24</td>\n",
       "      <td>NaN</td>\n",
       "      <td>NaN</td>\n",
       "      <td>NaN</td>\n",
       "      <td>NaN</td>\n",
       "      <td>NaN</td>\n",
       "      <td>NaN</td>\n",
       "    </tr>\n",
       "    <tr>\n",
       "      <th>2</th>\n",
       "      <td>Mario Kart Wii</td>\n",
       "      <td>Wii</td>\n",
       "      <td>2008.0</td>\n",
       "      <td>Racing</td>\n",
       "      <td>Nintendo</td>\n",
       "      <td>15.68</td>\n",
       "      <td>12.76</td>\n",
       "      <td>3.79</td>\n",
       "      <td>3.29</td>\n",
       "      <td>35.52</td>\n",
       "      <td>82.0</td>\n",
       "      <td>73.0</td>\n",
       "      <td>8.3</td>\n",
       "      <td>709.0</td>\n",
       "      <td>Nintendo</td>\n",
       "      <td>E</td>\n",
       "    </tr>\n",
       "    <tr>\n",
       "      <th>3</th>\n",
       "      <td>Wii Sports Resort</td>\n",
       "      <td>Wii</td>\n",
       "      <td>2009.0</td>\n",
       "      <td>Sports</td>\n",
       "      <td>Nintendo</td>\n",
       "      <td>15.61</td>\n",
       "      <td>10.93</td>\n",
       "      <td>3.28</td>\n",
       "      <td>2.95</td>\n",
       "      <td>32.77</td>\n",
       "      <td>80.0</td>\n",
       "      <td>73.0</td>\n",
       "      <td>8</td>\n",
       "      <td>192.0</td>\n",
       "      <td>Nintendo</td>\n",
       "      <td>E</td>\n",
       "    </tr>\n",
       "    <tr>\n",
       "      <th>4</th>\n",
       "      <td>Pokemon Red/Pokemon Blue</td>\n",
       "      <td>GB</td>\n",
       "      <td>1996.0</td>\n",
       "      <td>Role-Playing</td>\n",
       "      <td>Nintendo</td>\n",
       "      <td>11.27</td>\n",
       "      <td>8.89</td>\n",
       "      <td>10.22</td>\n",
       "      <td>1.00</td>\n",
       "      <td>31.37</td>\n",
       "      <td>NaN</td>\n",
       "      <td>NaN</td>\n",
       "      <td>NaN</td>\n",
       "      <td>NaN</td>\n",
       "      <td>NaN</td>\n",
       "      <td>NaN</td>\n",
       "    </tr>\n",
       "    <tr>\n",
       "      <th>...</th>\n",
       "      <td>...</td>\n",
       "      <td>...</td>\n",
       "      <td>...</td>\n",
       "      <td>...</td>\n",
       "      <td>...</td>\n",
       "      <td>...</td>\n",
       "      <td>...</td>\n",
       "      <td>...</td>\n",
       "      <td>...</td>\n",
       "      <td>...</td>\n",
       "      <td>...</td>\n",
       "      <td>...</td>\n",
       "      <td>...</td>\n",
       "      <td>...</td>\n",
       "      <td>...</td>\n",
       "      <td>...</td>\n",
       "    </tr>\n",
       "    <tr>\n",
       "      <th>16714</th>\n",
       "      <td>Samurai Warriors: Sanada Maru</td>\n",
       "      <td>PS3</td>\n",
       "      <td>2016.0</td>\n",
       "      <td>Action</td>\n",
       "      <td>Tecmo Koei</td>\n",
       "      <td>0.00</td>\n",
       "      <td>0.00</td>\n",
       "      <td>0.01</td>\n",
       "      <td>0.00</td>\n",
       "      <td>0.01</td>\n",
       "      <td>NaN</td>\n",
       "      <td>NaN</td>\n",
       "      <td>NaN</td>\n",
       "      <td>NaN</td>\n",
       "      <td>NaN</td>\n",
       "      <td>NaN</td>\n",
       "    </tr>\n",
       "    <tr>\n",
       "      <th>16715</th>\n",
       "      <td>LMA Manager 2007</td>\n",
       "      <td>X360</td>\n",
       "      <td>2006.0</td>\n",
       "      <td>Sports</td>\n",
       "      <td>Codemasters</td>\n",
       "      <td>0.00</td>\n",
       "      <td>0.01</td>\n",
       "      <td>0.00</td>\n",
       "      <td>0.00</td>\n",
       "      <td>0.01</td>\n",
       "      <td>NaN</td>\n",
       "      <td>NaN</td>\n",
       "      <td>NaN</td>\n",
       "      <td>NaN</td>\n",
       "      <td>NaN</td>\n",
       "      <td>NaN</td>\n",
       "    </tr>\n",
       "    <tr>\n",
       "      <th>16716</th>\n",
       "      <td>Haitaka no Psychedelica</td>\n",
       "      <td>PSV</td>\n",
       "      <td>2016.0</td>\n",
       "      <td>Adventure</td>\n",
       "      <td>Idea Factory</td>\n",
       "      <td>0.00</td>\n",
       "      <td>0.00</td>\n",
       "      <td>0.01</td>\n",
       "      <td>0.00</td>\n",
       "      <td>0.01</td>\n",
       "      <td>NaN</td>\n",
       "      <td>NaN</td>\n",
       "      <td>NaN</td>\n",
       "      <td>NaN</td>\n",
       "      <td>NaN</td>\n",
       "      <td>NaN</td>\n",
       "    </tr>\n",
       "    <tr>\n",
       "      <th>16717</th>\n",
       "      <td>Spirits &amp; Spells</td>\n",
       "      <td>GBA</td>\n",
       "      <td>2003.0</td>\n",
       "      <td>Platform</td>\n",
       "      <td>Wanadoo</td>\n",
       "      <td>0.01</td>\n",
       "      <td>0.00</td>\n",
       "      <td>0.00</td>\n",
       "      <td>0.00</td>\n",
       "      <td>0.01</td>\n",
       "      <td>NaN</td>\n",
       "      <td>NaN</td>\n",
       "      <td>NaN</td>\n",
       "      <td>NaN</td>\n",
       "      <td>NaN</td>\n",
       "      <td>NaN</td>\n",
       "    </tr>\n",
       "    <tr>\n",
       "      <th>16718</th>\n",
       "      <td>Winning Post 8 2016</td>\n",
       "      <td>PSV</td>\n",
       "      <td>2016.0</td>\n",
       "      <td>Simulation</td>\n",
       "      <td>Tecmo Koei</td>\n",
       "      <td>0.00</td>\n",
       "      <td>0.00</td>\n",
       "      <td>0.01</td>\n",
       "      <td>0.00</td>\n",
       "      <td>0.01</td>\n",
       "      <td>NaN</td>\n",
       "      <td>NaN</td>\n",
       "      <td>NaN</td>\n",
       "      <td>NaN</td>\n",
       "      <td>NaN</td>\n",
       "      <td>NaN</td>\n",
       "    </tr>\n",
       "  </tbody>\n",
       "</table>\n",
       "<p>16719 rows × 16 columns</p>\n",
       "</div>"
      ],
      "text/plain": [
       "                                Name Platform  Year_of_Release         Genre  \\\n",
       "0                         Wii Sports      Wii           2006.0        Sports   \n",
       "1                  Super Mario Bros.      NES           1985.0      Platform   \n",
       "2                     Mario Kart Wii      Wii           2008.0        Racing   \n",
       "3                  Wii Sports Resort      Wii           2009.0        Sports   \n",
       "4           Pokemon Red/Pokemon Blue       GB           1996.0  Role-Playing   \n",
       "...                              ...      ...              ...           ...   \n",
       "16714  Samurai Warriors: Sanada Maru      PS3           2016.0        Action   \n",
       "16715               LMA Manager 2007     X360           2006.0        Sports   \n",
       "16716        Haitaka no Psychedelica      PSV           2016.0     Adventure   \n",
       "16717               Spirits & Spells      GBA           2003.0      Platform   \n",
       "16718            Winning Post 8 2016      PSV           2016.0    Simulation   \n",
       "\n",
       "          Publisher  NA_Sales  EU_Sales  JP_Sales  Other_Sales  Global_Sales  \\\n",
       "0          Nintendo     41.36     28.96      3.77         8.45         82.53   \n",
       "1          Nintendo     29.08      3.58      6.81         0.77         40.24   \n",
       "2          Nintendo     15.68     12.76      3.79         3.29         35.52   \n",
       "3          Nintendo     15.61     10.93      3.28         2.95         32.77   \n",
       "4          Nintendo     11.27      8.89     10.22         1.00         31.37   \n",
       "...             ...       ...       ...       ...          ...           ...   \n",
       "16714    Tecmo Koei      0.00      0.00      0.01         0.00          0.01   \n",
       "16715   Codemasters      0.00      0.01      0.00         0.00          0.01   \n",
       "16716  Idea Factory      0.00      0.00      0.01         0.00          0.01   \n",
       "16717       Wanadoo      0.01      0.00      0.00         0.00          0.01   \n",
       "16718    Tecmo Koei      0.00      0.00      0.01         0.00          0.01   \n",
       "\n",
       "       Critic_Score  Critic_Count User_Score  User_Count Developer Rating  \n",
       "0              76.0          51.0          8       322.0  Nintendo      E  \n",
       "1               NaN           NaN        NaN         NaN       NaN    NaN  \n",
       "2              82.0          73.0        8.3       709.0  Nintendo      E  \n",
       "3              80.0          73.0          8       192.0  Nintendo      E  \n",
       "4               NaN           NaN        NaN         NaN       NaN    NaN  \n",
       "...             ...           ...        ...         ...       ...    ...  \n",
       "16714           NaN           NaN        NaN         NaN       NaN    NaN  \n",
       "16715           NaN           NaN        NaN         NaN       NaN    NaN  \n",
       "16716           NaN           NaN        NaN         NaN       NaN    NaN  \n",
       "16717           NaN           NaN        NaN         NaN       NaN    NaN  \n",
       "16718           NaN           NaN        NaN         NaN       NaN    NaN  \n",
       "\n",
       "[16719 rows x 16 columns]"
      ]
     },
     "execution_count": 3,
     "metadata": {},
     "output_type": "execute_result"
    }
   ],
   "source": [
    "import pandas as pd\n",
    "# importing the data\n",
    "\n",
    "#path = \"/content/drive/MyDrive/ACME Internship/Video_Games.csv\"\n",
    "path = \"Video_Games.csv\"\n",
    "dataset = pd.read_csv(path)\n",
    "# get the first 5 rows\n",
    "dataset.head()\n",
    "\n",
    "dataset"
   ]
  },
  {
   "cell_type": "code",
   "execution_count": 4,
   "id": "7715ed7c",
   "metadata": {
    "colab": {
     "base_uri": "https://localhost:8080/"
    },
    "id": "7715ed7c",
    "outputId": "958c498b-f37d-4678-e942-bfd134e12530"
   },
   "outputs": [
    {
     "name": "stdout",
     "output_type": "stream",
     "text": [
      "<class 'pandas.core.frame.DataFrame'>\n",
      "RangeIndex: 16719 entries, 0 to 16718\n",
      "Data columns (total 16 columns):\n",
      " #   Column           Non-Null Count  Dtype  \n",
      "---  ------           --------------  -----  \n",
      " 0   Name             16717 non-null  object \n",
      " 1   Platform         16719 non-null  object \n",
      " 2   Year_of_Release  16450 non-null  float64\n",
      " 3   Genre            16717 non-null  object \n",
      " 4   Publisher        16665 non-null  object \n",
      " 5   NA_Sales         16719 non-null  float64\n",
      " 6   EU_Sales         16719 non-null  float64\n",
      " 7   JP_Sales         16719 non-null  float64\n",
      " 8   Other_Sales      16719 non-null  float64\n",
      " 9   Global_Sales     16719 non-null  float64\n",
      " 10  Critic_Score     8137 non-null   float64\n",
      " 11  Critic_Count     8137 non-null   float64\n",
      " 12  User_Score       10015 non-null  object \n",
      " 13  User_Count       7590 non-null   float64\n",
      " 14  Developer        10096 non-null  object \n",
      " 15  Rating           9950 non-null   object \n",
      "dtypes: float64(9), object(7)\n",
      "memory usage: 2.0+ MB\n"
     ]
    }
   ],
   "source": [
    "#this returns the data types of each column\n",
    "dataset.columns\n",
    "dataset.info()"
   ]
  },
  {
   "cell_type": "code",
   "execution_count": 5,
   "id": "30ea5b89",
   "metadata": {
    "colab": {
     "base_uri": "https://localhost:8080/"
    },
    "id": "30ea5b89",
    "outputId": "d6ebf1cb-5297-434a-d68e-f70753a40228"
   },
   "outputs": [
    {
     "data": {
      "text/plain": [
       "Name                  2\n",
       "Platform              0\n",
       "Year_of_Release     269\n",
       "Genre                 2\n",
       "Publisher            54\n",
       "NA_Sales              0\n",
       "EU_Sales              0\n",
       "JP_Sales              0\n",
       "Other_Sales           0\n",
       "Global_Sales          0\n",
       "Critic_Score       8582\n",
       "Critic_Count       8582\n",
       "User_Score         6704\n",
       "User_Count         9129\n",
       "Developer          6623\n",
       "Rating             6769\n",
       "dtype: int64"
      ]
     },
     "execution_count": 5,
     "metadata": {},
     "output_type": "execute_result"
    }
   ],
   "source": [
    "#checking if there are missing value\n",
    "missing_values_count = dataset.isnull().sum()\n",
    "missing_values_count"
   ]
  },
  {
   "cell_type": "markdown",
   "id": "6de630ed",
   "metadata": {
    "id": "6de630ed"
   },
   "source": [
    "We have lot of missing values so we can't drop them, as if we do so our dataset will be little."
   ]
  },
  {
   "cell_type": "code",
   "execution_count": 6,
   "id": "057015b7",
   "metadata": {
    "colab": {
     "base_uri": "https://localhost:8080/"
    },
    "id": "057015b7",
    "outputId": "26cfe8b4-8e17-44a6-a748-036e7218520c"
   },
   "outputs": [
    {
     "data": {
      "text/plain": [
       "0"
      ]
     },
     "execution_count": 6,
     "metadata": {},
     "output_type": "execute_result"
    }
   ],
   "source": [
    "# Check for duplicates in the dataset\n",
    "dataset.duplicated().sum()"
   ]
  },
  {
   "cell_type": "markdown",
   "id": "57fc08ec",
   "metadata": {
    "id": "57fc08ec"
   },
   "source": [
    "they is no need of removing duplicate rows as there are no duplicate."
   ]
  },
  {
   "cell_type": "code",
   "execution_count": 7,
   "id": "b1458d01",
   "metadata": {
    "colab": {
     "base_uri": "https://localhost:8080/",
     "height": 617
    },
    "id": "b1458d01",
    "outputId": "7ae845e2-a426-43c0-9071-4175aaf44c8f"
   },
   "outputs": [
    {
     "data": {
      "text/html": [
       "<div>\n",
       "<style scoped>\n",
       "    .dataframe tbody tr th:only-of-type {\n",
       "        vertical-align: middle;\n",
       "    }\n",
       "\n",
       "    .dataframe tbody tr th {\n",
       "        vertical-align: top;\n",
       "    }\n",
       "\n",
       "    .dataframe thead th {\n",
       "        text-align: right;\n",
       "    }\n",
       "</style>\n",
       "<table border=\"1\" class=\"dataframe\">\n",
       "  <thead>\n",
       "    <tr style=\"text-align: right;\">\n",
       "      <th></th>\n",
       "      <th>Name</th>\n",
       "      <th>Platform</th>\n",
       "      <th>Year_of_Release</th>\n",
       "      <th>Genre</th>\n",
       "      <th>Publisher</th>\n",
       "      <th>NA_Sales</th>\n",
       "      <th>EU_Sales</th>\n",
       "      <th>JP_Sales</th>\n",
       "      <th>Other_Sales</th>\n",
       "      <th>Global_Sales</th>\n",
       "      <th>Critic_Score</th>\n",
       "      <th>Critic_Count</th>\n",
       "      <th>User_Score</th>\n",
       "      <th>User_Count</th>\n",
       "      <th>Developer</th>\n",
       "      <th>Rating</th>\n",
       "    </tr>\n",
       "  </thead>\n",
       "  <tbody>\n",
       "    <tr>\n",
       "      <th>0</th>\n",
       "      <td>Wii Sports</td>\n",
       "      <td>Wii</td>\n",
       "      <td>2006.0</td>\n",
       "      <td>Sports</td>\n",
       "      <td>Nintendo</td>\n",
       "      <td>41.36</td>\n",
       "      <td>28.96</td>\n",
       "      <td>3.77</td>\n",
       "      <td>8.45</td>\n",
       "      <td>82.53</td>\n",
       "      <td>76.000000</td>\n",
       "      <td>51.000000</td>\n",
       "      <td>8.000000</td>\n",
       "      <td>322.000000</td>\n",
       "      <td>Nintendo</td>\n",
       "      <td>E</td>\n",
       "    </tr>\n",
       "    <tr>\n",
       "      <th>1</th>\n",
       "      <td>Super Mario Bros.</td>\n",
       "      <td>NES</td>\n",
       "      <td>1985.0</td>\n",
       "      <td>Platform</td>\n",
       "      <td>Nintendo</td>\n",
       "      <td>29.08</td>\n",
       "      <td>3.58</td>\n",
       "      <td>6.81</td>\n",
       "      <td>0.77</td>\n",
       "      <td>40.24</td>\n",
       "      <td>68.967679</td>\n",
       "      <td>26.360821</td>\n",
       "      <td>7.125046</td>\n",
       "      <td>162.229908</td>\n",
       "      <td>Ubisoft</td>\n",
       "      <td>E</td>\n",
       "    </tr>\n",
       "    <tr>\n",
       "      <th>2</th>\n",
       "      <td>Mario Kart Wii</td>\n",
       "      <td>Wii</td>\n",
       "      <td>2008.0</td>\n",
       "      <td>Racing</td>\n",
       "      <td>Nintendo</td>\n",
       "      <td>15.68</td>\n",
       "      <td>12.76</td>\n",
       "      <td>3.79</td>\n",
       "      <td>3.29</td>\n",
       "      <td>35.52</td>\n",
       "      <td>82.000000</td>\n",
       "      <td>73.000000</td>\n",
       "      <td>8.300000</td>\n",
       "      <td>709.000000</td>\n",
       "      <td>Nintendo</td>\n",
       "      <td>E</td>\n",
       "    </tr>\n",
       "    <tr>\n",
       "      <th>3</th>\n",
       "      <td>Wii Sports Resort</td>\n",
       "      <td>Wii</td>\n",
       "      <td>2009.0</td>\n",
       "      <td>Sports</td>\n",
       "      <td>Nintendo</td>\n",
       "      <td>15.61</td>\n",
       "      <td>10.93</td>\n",
       "      <td>3.28</td>\n",
       "      <td>2.95</td>\n",
       "      <td>32.77</td>\n",
       "      <td>80.000000</td>\n",
       "      <td>73.000000</td>\n",
       "      <td>8.000000</td>\n",
       "      <td>192.000000</td>\n",
       "      <td>Nintendo</td>\n",
       "      <td>E</td>\n",
       "    </tr>\n",
       "    <tr>\n",
       "      <th>4</th>\n",
       "      <td>Pokemon Red/Pokemon Blue</td>\n",
       "      <td>GB</td>\n",
       "      <td>1996.0</td>\n",
       "      <td>Role-Playing</td>\n",
       "      <td>Nintendo</td>\n",
       "      <td>11.27</td>\n",
       "      <td>8.89</td>\n",
       "      <td>10.22</td>\n",
       "      <td>1.00</td>\n",
       "      <td>31.37</td>\n",
       "      <td>68.967679</td>\n",
       "      <td>26.360821</td>\n",
       "      <td>7.125046</td>\n",
       "      <td>162.229908</td>\n",
       "      <td>Ubisoft</td>\n",
       "      <td>E</td>\n",
       "    </tr>\n",
       "    <tr>\n",
       "      <th>...</th>\n",
       "      <td>...</td>\n",
       "      <td>...</td>\n",
       "      <td>...</td>\n",
       "      <td>...</td>\n",
       "      <td>...</td>\n",
       "      <td>...</td>\n",
       "      <td>...</td>\n",
       "      <td>...</td>\n",
       "      <td>...</td>\n",
       "      <td>...</td>\n",
       "      <td>...</td>\n",
       "      <td>...</td>\n",
       "      <td>...</td>\n",
       "      <td>...</td>\n",
       "      <td>...</td>\n",
       "      <td>...</td>\n",
       "    </tr>\n",
       "    <tr>\n",
       "      <th>16714</th>\n",
       "      <td>Samurai Warriors: Sanada Maru</td>\n",
       "      <td>PS3</td>\n",
       "      <td>2016.0</td>\n",
       "      <td>Action</td>\n",
       "      <td>Tecmo Koei</td>\n",
       "      <td>0.00</td>\n",
       "      <td>0.00</td>\n",
       "      <td>0.01</td>\n",
       "      <td>0.00</td>\n",
       "      <td>0.01</td>\n",
       "      <td>68.967679</td>\n",
       "      <td>26.360821</td>\n",
       "      <td>7.125046</td>\n",
       "      <td>162.229908</td>\n",
       "      <td>Ubisoft</td>\n",
       "      <td>E</td>\n",
       "    </tr>\n",
       "    <tr>\n",
       "      <th>16715</th>\n",
       "      <td>LMA Manager 2007</td>\n",
       "      <td>X360</td>\n",
       "      <td>2006.0</td>\n",
       "      <td>Sports</td>\n",
       "      <td>Codemasters</td>\n",
       "      <td>0.00</td>\n",
       "      <td>0.01</td>\n",
       "      <td>0.00</td>\n",
       "      <td>0.00</td>\n",
       "      <td>0.01</td>\n",
       "      <td>68.967679</td>\n",
       "      <td>26.360821</td>\n",
       "      <td>7.125046</td>\n",
       "      <td>162.229908</td>\n",
       "      <td>Ubisoft</td>\n",
       "      <td>E</td>\n",
       "    </tr>\n",
       "    <tr>\n",
       "      <th>16716</th>\n",
       "      <td>Haitaka no Psychedelica</td>\n",
       "      <td>PSV</td>\n",
       "      <td>2016.0</td>\n",
       "      <td>Adventure</td>\n",
       "      <td>Idea Factory</td>\n",
       "      <td>0.00</td>\n",
       "      <td>0.00</td>\n",
       "      <td>0.01</td>\n",
       "      <td>0.00</td>\n",
       "      <td>0.01</td>\n",
       "      <td>68.967679</td>\n",
       "      <td>26.360821</td>\n",
       "      <td>7.125046</td>\n",
       "      <td>162.229908</td>\n",
       "      <td>Ubisoft</td>\n",
       "      <td>E</td>\n",
       "    </tr>\n",
       "    <tr>\n",
       "      <th>16717</th>\n",
       "      <td>Spirits &amp; Spells</td>\n",
       "      <td>GBA</td>\n",
       "      <td>2003.0</td>\n",
       "      <td>Platform</td>\n",
       "      <td>Wanadoo</td>\n",
       "      <td>0.01</td>\n",
       "      <td>0.00</td>\n",
       "      <td>0.00</td>\n",
       "      <td>0.00</td>\n",
       "      <td>0.01</td>\n",
       "      <td>68.967679</td>\n",
       "      <td>26.360821</td>\n",
       "      <td>7.125046</td>\n",
       "      <td>162.229908</td>\n",
       "      <td>Ubisoft</td>\n",
       "      <td>E</td>\n",
       "    </tr>\n",
       "    <tr>\n",
       "      <th>16718</th>\n",
       "      <td>Winning Post 8 2016</td>\n",
       "      <td>PSV</td>\n",
       "      <td>2016.0</td>\n",
       "      <td>Simulation</td>\n",
       "      <td>Tecmo Koei</td>\n",
       "      <td>0.00</td>\n",
       "      <td>0.00</td>\n",
       "      <td>0.01</td>\n",
       "      <td>0.00</td>\n",
       "      <td>0.01</td>\n",
       "      <td>68.967679</td>\n",
       "      <td>26.360821</td>\n",
       "      <td>7.125046</td>\n",
       "      <td>162.229908</td>\n",
       "      <td>Ubisoft</td>\n",
       "      <td>E</td>\n",
       "    </tr>\n",
       "  </tbody>\n",
       "</table>\n",
       "<p>16719 rows × 16 columns</p>\n",
       "</div>"
      ],
      "text/plain": [
       "                                Name Platform  Year_of_Release         Genre  \\\n",
       "0                         Wii Sports      Wii           2006.0        Sports   \n",
       "1                  Super Mario Bros.      NES           1985.0      Platform   \n",
       "2                     Mario Kart Wii      Wii           2008.0        Racing   \n",
       "3                  Wii Sports Resort      Wii           2009.0        Sports   \n",
       "4           Pokemon Red/Pokemon Blue       GB           1996.0  Role-Playing   \n",
       "...                              ...      ...              ...           ...   \n",
       "16714  Samurai Warriors: Sanada Maru      PS3           2016.0        Action   \n",
       "16715               LMA Manager 2007     X360           2006.0        Sports   \n",
       "16716        Haitaka no Psychedelica      PSV           2016.0     Adventure   \n",
       "16717               Spirits & Spells      GBA           2003.0      Platform   \n",
       "16718            Winning Post 8 2016      PSV           2016.0    Simulation   \n",
       "\n",
       "          Publisher  NA_Sales  EU_Sales  JP_Sales  Other_Sales  Global_Sales  \\\n",
       "0          Nintendo     41.36     28.96      3.77         8.45         82.53   \n",
       "1          Nintendo     29.08      3.58      6.81         0.77         40.24   \n",
       "2          Nintendo     15.68     12.76      3.79         3.29         35.52   \n",
       "3          Nintendo     15.61     10.93      3.28         2.95         32.77   \n",
       "4          Nintendo     11.27      8.89     10.22         1.00         31.37   \n",
       "...             ...       ...       ...       ...          ...           ...   \n",
       "16714    Tecmo Koei      0.00      0.00      0.01         0.00          0.01   \n",
       "16715   Codemasters      0.00      0.01      0.00         0.00          0.01   \n",
       "16716  Idea Factory      0.00      0.00      0.01         0.00          0.01   \n",
       "16717       Wanadoo      0.01      0.00      0.00         0.00          0.01   \n",
       "16718    Tecmo Koei      0.00      0.00      0.01         0.00          0.01   \n",
       "\n",
       "       Critic_Score  Critic_Count  User_Score  User_Count Developer Rating  \n",
       "0         76.000000     51.000000    8.000000  322.000000  Nintendo      E  \n",
       "1         68.967679     26.360821    7.125046  162.229908   Ubisoft      E  \n",
       "2         82.000000     73.000000    8.300000  709.000000  Nintendo      E  \n",
       "3         80.000000     73.000000    8.000000  192.000000  Nintendo      E  \n",
       "4         68.967679     26.360821    7.125046  162.229908   Ubisoft      E  \n",
       "...             ...           ...         ...         ...       ...    ...  \n",
       "16714     68.967679     26.360821    7.125046  162.229908   Ubisoft      E  \n",
       "16715     68.967679     26.360821    7.125046  162.229908   Ubisoft      E  \n",
       "16716     68.967679     26.360821    7.125046  162.229908   Ubisoft      E  \n",
       "16717     68.967679     26.360821    7.125046  162.229908   Ubisoft      E  \n",
       "16718     68.967679     26.360821    7.125046  162.229908   Ubisoft      E  \n",
       "\n",
       "[16719 rows x 16 columns]"
      ]
     },
     "metadata": {},
     "output_type": "display_data"
    }
   ],
   "source": [
    "import pandas as pd\n",
    "from sklearn.impute import SimpleImputer\n",
    "\n",
    "# Load the dataset into a DataFrame\n",
    "dataset = pd.read_csv(path)\n",
    "\n",
    "# Handle missing values for numerical columns\n",
    "num_cols = ['Year_of_Release', 'Critic_Score', 'Critic_Count', 'User_Count']\n",
    "num_imputer = SimpleImputer(strategy='mean')\n",
    "dataset[num_cols] = num_imputer.fit_transform(dataset[num_cols])\n",
    "\n",
    "# Handle missing values for 'User_Score' separately\n",
    "# First, we replace 'tbd' values with NaN\n",
    "dataset['User_Score'] = pd.to_numeric(dataset['User_Score'], errors='coerce')\n",
    "# Then, impute missing values with the mean\n",
    "dataset['User_Score'] = num_imputer.fit_transform(dataset[['User_Score']])\n",
    "\n",
    "# Handle missing values for categorical columns\n",
    "cat_cols = ['Genre', 'Publisher', 'Developer', 'Rating']\n",
    "cat_imputer = SimpleImputer(strategy='most_frequent')\n",
    "dataset[cat_cols] = cat_imputer.fit_transform(dataset[cat_cols])\n",
    "\n",
    "# Display the entire cleaned dataset\n",
    "display(dataset)"
   ]
  },
  {
   "cell_type": "code",
   "execution_count": 8,
   "id": "0585b4aa",
   "metadata": {
    "colab": {
     "base_uri": "https://localhost:8080/"
    },
    "id": "0585b4aa",
    "outputId": "47b51892-9112-474e-fa43-b93ddaff28b9"
   },
   "outputs": [
    {
     "data": {
      "text/plain": [
       "Name               2\n",
       "Platform           0\n",
       "Year_of_Release    0\n",
       "Genre              0\n",
       "Publisher          0\n",
       "NA_Sales           0\n",
       "EU_Sales           0\n",
       "JP_Sales           0\n",
       "Other_Sales        0\n",
       "Global_Sales       0\n",
       "Critic_Score       0\n",
       "Critic_Count       0\n",
       "User_Score         0\n",
       "User_Count         0\n",
       "Developer          0\n",
       "Rating             0\n",
       "dtype: int64"
      ]
     },
     "execution_count": 8,
     "metadata": {},
     "output_type": "execute_result"
    }
   ],
   "source": [
    "#checking if there are missing value\n",
    "missing_values_count = dataset.isnull().sum()\n",
    "missing_values_count"
   ]
  },
  {
   "cell_type": "markdown",
   "id": "22335626",
   "metadata": {
    "id": "22335626"
   },
   "source": [
    "We still have 2 missing values for the column name which can be dropped."
   ]
  },
  {
   "cell_type": "code",
   "execution_count": 9,
   "id": "539cea96",
   "metadata": {
    "colab": {
     "base_uri": "https://localhost:8080/"
    },
    "id": "539cea96",
    "outputId": "788fc3d2-770a-4c26-ba91-661533745162"
   },
   "outputs": [
    {
     "data": {
      "text/plain": [
       "Name               2\n",
       "Platform           0\n",
       "Year_of_Release    0\n",
       "Genre              0\n",
       "Publisher          0\n",
       "NA_Sales           0\n",
       "EU_Sales           0\n",
       "JP_Sales           0\n",
       "Other_Sales        0\n",
       "Global_Sales       0\n",
       "Critic_Score       0\n",
       "Critic_Count       0\n",
       "User_Score         0\n",
       "User_Count         0\n",
       "Developer          0\n",
       "Rating             0\n",
       "dtype: int64"
      ]
     },
     "execution_count": 9,
     "metadata": {},
     "output_type": "execute_result"
    }
   ],
   "source": [
    "dataset = dataset.dropna(subset=['Name'])\n",
    "missing_values_count"
   ]
  },
  {
   "cell_type": "markdown",
   "id": "2e1f941f",
   "metadata": {
    "id": "2e1f941f"
   },
   "source": [
    "after that we don't have have any missing data in our dataset."
   ]
  },
  {
   "cell_type": "markdown",
   "id": "6d575bc6",
   "metadata": {
    "id": "6d575bc6"
   },
   "source": [
    "## Exploratory Data Analysis (EDA)"
   ]
  },
  {
   "cell_type": "markdown",
   "id": "6da76a3b",
   "metadata": {
    "id": "6da76a3b"
   },
   "source": [
    "### Summary statistics"
   ]
  },
  {
   "cell_type": "code",
   "execution_count": 10,
   "id": "e34760fb",
   "metadata": {
    "colab": {
     "base_uri": "https://localhost:8080/",
     "height": 320
    },
    "id": "e34760fb",
    "outputId": "2f537c77-17b2-4f5e-83e5-81849d639494",
    "scrolled": true
   },
   "outputs": [
    {
     "data": {
      "text/html": [
       "<div>\n",
       "<style scoped>\n",
       "    .dataframe tbody tr th:only-of-type {\n",
       "        vertical-align: middle;\n",
       "    }\n",
       "\n",
       "    .dataframe tbody tr th {\n",
       "        vertical-align: top;\n",
       "    }\n",
       "\n",
       "    .dataframe thead th {\n",
       "        text-align: right;\n",
       "    }\n",
       "</style>\n",
       "<table border=\"1\" class=\"dataframe\">\n",
       "  <thead>\n",
       "    <tr style=\"text-align: right;\">\n",
       "      <th></th>\n",
       "      <th>Year_of_Release</th>\n",
       "      <th>NA_Sales</th>\n",
       "      <th>EU_Sales</th>\n",
       "      <th>JP_Sales</th>\n",
       "      <th>Other_Sales</th>\n",
       "      <th>Global_Sales</th>\n",
       "      <th>Critic_Score</th>\n",
       "      <th>Critic_Count</th>\n",
       "      <th>User_Score</th>\n",
       "      <th>User_Count</th>\n",
       "    </tr>\n",
       "  </thead>\n",
       "  <tbody>\n",
       "    <tr>\n",
       "      <th>count</th>\n",
       "      <td>16717.000000</td>\n",
       "      <td>16717.000000</td>\n",
       "      <td>16717.000000</td>\n",
       "      <td>16717.000000</td>\n",
       "      <td>16717.000000</td>\n",
       "      <td>16717.000000</td>\n",
       "      <td>16717.000000</td>\n",
       "      <td>16717.000000</td>\n",
       "      <td>16717.000000</td>\n",
       "      <td>16717.000000</td>\n",
       "    </tr>\n",
       "    <tr>\n",
       "      <th>mean</th>\n",
       "      <td>2006.488969</td>\n",
       "      <td>0.263255</td>\n",
       "      <td>0.145010</td>\n",
       "      <td>0.077610</td>\n",
       "      <td>0.047333</td>\n",
       "      <td>0.533462</td>\n",
       "      <td>68.967679</td>\n",
       "      <td>26.360821</td>\n",
       "      <td>7.125046</td>\n",
       "      <td>162.229908</td>\n",
       "    </tr>\n",
       "    <tr>\n",
       "      <th>std</th>\n",
       "      <td>5.829987</td>\n",
       "      <td>0.813475</td>\n",
       "      <td>0.503303</td>\n",
       "      <td>0.308836</td>\n",
       "      <td>0.186721</td>\n",
       "      <td>1.547956</td>\n",
       "      <td>9.723998</td>\n",
       "      <td>13.241794</td>\n",
       "      <td>1.010693</td>\n",
       "      <td>378.187754</td>\n",
       "    </tr>\n",
       "    <tr>\n",
       "      <th>min</th>\n",
       "      <td>1980.000000</td>\n",
       "      <td>0.000000</td>\n",
       "      <td>0.000000</td>\n",
       "      <td>0.000000</td>\n",
       "      <td>0.000000</td>\n",
       "      <td>0.010000</td>\n",
       "      <td>13.000000</td>\n",
       "      <td>3.000000</td>\n",
       "      <td>0.000000</td>\n",
       "      <td>4.000000</td>\n",
       "    </tr>\n",
       "    <tr>\n",
       "      <th>25%</th>\n",
       "      <td>2003.000000</td>\n",
       "      <td>0.000000</td>\n",
       "      <td>0.000000</td>\n",
       "      <td>0.000000</td>\n",
       "      <td>0.000000</td>\n",
       "      <td>0.060000</td>\n",
       "      <td>68.967679</td>\n",
       "      <td>22.000000</td>\n",
       "      <td>7.125046</td>\n",
       "      <td>30.000000</td>\n",
       "    </tr>\n",
       "    <tr>\n",
       "      <th>50%</th>\n",
       "      <td>2007.000000</td>\n",
       "      <td>0.080000</td>\n",
       "      <td>0.020000</td>\n",
       "      <td>0.000000</td>\n",
       "      <td>0.010000</td>\n",
       "      <td>0.170000</td>\n",
       "      <td>68.967679</td>\n",
       "      <td>26.360821</td>\n",
       "      <td>7.125046</td>\n",
       "      <td>162.229908</td>\n",
       "    </tr>\n",
       "    <tr>\n",
       "      <th>75%</th>\n",
       "      <td>2010.000000</td>\n",
       "      <td>0.240000</td>\n",
       "      <td>0.110000</td>\n",
       "      <td>0.040000</td>\n",
       "      <td>0.030000</td>\n",
       "      <td>0.470000</td>\n",
       "      <td>70.000000</td>\n",
       "      <td>26.360821</td>\n",
       "      <td>7.300000</td>\n",
       "      <td>162.229908</td>\n",
       "    </tr>\n",
       "    <tr>\n",
       "      <th>max</th>\n",
       "      <td>2020.000000</td>\n",
       "      <td>41.360000</td>\n",
       "      <td>28.960000</td>\n",
       "      <td>10.220000</td>\n",
       "      <td>10.570000</td>\n",
       "      <td>82.530000</td>\n",
       "      <td>98.000000</td>\n",
       "      <td>113.000000</td>\n",
       "      <td>9.700000</td>\n",
       "      <td>10665.000000</td>\n",
       "    </tr>\n",
       "  </tbody>\n",
       "</table>\n",
       "</div>"
      ],
      "text/plain": [
       "       Year_of_Release      NA_Sales      EU_Sales      JP_Sales  \\\n",
       "count     16717.000000  16717.000000  16717.000000  16717.000000   \n",
       "mean       2006.488969      0.263255      0.145010      0.077610   \n",
       "std           5.829987      0.813475      0.503303      0.308836   \n",
       "min        1980.000000      0.000000      0.000000      0.000000   \n",
       "25%        2003.000000      0.000000      0.000000      0.000000   \n",
       "50%        2007.000000      0.080000      0.020000      0.000000   \n",
       "75%        2010.000000      0.240000      0.110000      0.040000   \n",
       "max        2020.000000     41.360000     28.960000     10.220000   \n",
       "\n",
       "        Other_Sales  Global_Sales  Critic_Score  Critic_Count    User_Score  \\\n",
       "count  16717.000000  16717.000000  16717.000000  16717.000000  16717.000000   \n",
       "mean       0.047333      0.533462     68.967679     26.360821      7.125046   \n",
       "std        0.186721      1.547956      9.723998     13.241794      1.010693   \n",
       "min        0.000000      0.010000     13.000000      3.000000      0.000000   \n",
       "25%        0.000000      0.060000     68.967679     22.000000      7.125046   \n",
       "50%        0.010000      0.170000     68.967679     26.360821      7.125046   \n",
       "75%        0.030000      0.470000     70.000000     26.360821      7.300000   \n",
       "max       10.570000     82.530000     98.000000    113.000000      9.700000   \n",
       "\n",
       "         User_Count  \n",
       "count  16717.000000  \n",
       "mean     162.229908  \n",
       "std      378.187754  \n",
       "min        4.000000  \n",
       "25%       30.000000  \n",
       "50%      162.229908  \n",
       "75%      162.229908  \n",
       "max    10665.000000  "
      ]
     },
     "execution_count": 10,
     "metadata": {},
     "output_type": "execute_result"
    }
   ],
   "source": [
    "#this will provides a summary statistics of the numerical columns\n",
    "dataset.describe()"
   ]
  },
  {
   "cell_type": "markdown",
   "id": "486a39ec",
   "metadata": {
    "id": "486a39ec"
   },
   "source": [
    "### Visualisation"
   ]
  },
  {
   "cell_type": "code",
   "execution_count": 11,
   "id": "7fe5d640",
   "metadata": {
    "colab": {
     "base_uri": "https://localhost:8080/",
     "height": 444
    },
    "id": "7fe5d640",
    "outputId": "aad17bb3-f3bf-473c-b130-51ef16eafd8a"
   },
   "outputs": [
    {
     "data": {
      "image/png": "[encoded data removed]",
      "text/plain": [
       "<Figure size 1000x600 with 1 Axes>"
      ]
     },
     "metadata": {},
     "output_type": "display_data"
    }
   ],
   "source": [
    "import pandas as pd\n",
    "import numpy as np\n",
    "import matplotlib.pyplot as plt\n",
    "import seaborn as sns\n",
    "\n",
    "# Convert 'Year_of_Release' column to integer type\n",
    "dataset['Year_of_Release'] = dataset['Year_of_Release'].astype(int)\n",
    "\n",
    "plt.figure(figsize=(10, 6))\n",
    "sns.countplot(x='Year_of_Release', data=dataset)\n",
    "plt.title('Total Games Sales Each Year')\n",
    "plt.xticks(rotation=90)  # Adjust the rotation of x-axis ticks\n",
    "plt.show()\n"
   ]
  },
  {
   "cell_type": "code",
   "execution_count": 12,
   "id": "6549bfde",
   "metadata": {
    "colab": {
     "base_uri": "https://localhost:8080/",
     "height": 512
    },
    "id": "6549bfde",
    "outputId": "0b2d9513-590a-4ae6-c51f-e1ae62f675b7",
    "scrolled": true
   },
   "outputs": [
    {
     "name": "stderr",
     "output_type": "stream",
     "text": [
      "C:\\Users\\Owner\\anaconda3\\Lib\\site-packages\\seaborn\\_oldcore.py:1119: FutureWarning: use_inf_as_na option is deprecated and will be removed in a future version. Convert inf values to NaN before operating instead.\n",
      "  with pd.option_context('mode.use_inf_as_na', True):\n"
     ]
    },
    {
     "data": {
      "image/png": "[encoded data removed]",
      "text/plain": [
       "<Figure size 800x600 with 1 Axes>"
      ]
     },
     "metadata": {},
     "output_type": "display_data"
    }
   ],
   "source": [
    "import pandas as pd\n",
    "import numpy as np\n",
    "import matplotlib.pyplot as plt\n",
    "import seaborn as sns\n",
    "\n",
    "# Data visualization\n",
    "# Histogram of Global_Sales\n",
    "plt.figure(figsize=(8, 6))\n",
    "sns.histplot(dataset['Global_Sales'], bins=20, kde=True)\n",
    "plt.title('Distribution of Global Sales')\n",
    "plt.xlabel('Global Sales')\n",
    "plt.ylabel('Frequency')\n",
    "plt.show()"
   ]
  },
  {
   "cell_type": "code",
   "execution_count": 14,
   "id": "213ac155",
   "metadata": {
    "colab": {
     "base_uri": "https://localhost:8080/",
     "height": 655
    },
    "id": "213ac155",
    "outputId": "427b3d20-004e-4c4e-f97d-0fb36b203c69"
   },
   "outputs": [
    {
     "ename": "ValueError",
     "evalue": "could not convert string to float: 'Wii Sports'",
     "output_type": "error",
     "traceback": [
      "\u001b[1;31m---------------------------------------------------------------------------\u001b[0m",
      "\u001b[1;31mValueError\u001b[0m                                Traceback (most recent call last)",
      "Cell \u001b[1;32mIn[14], line 2\u001b[0m\n\u001b[0;32m      1\u001b[0m \u001b[38;5;66;03m# Correlation matrix\u001b[39;00m\n\u001b[1;32m----> 2\u001b[0m correlation_matrix \u001b[38;5;241m=\u001b[39m dataset\u001b[38;5;241m.\u001b[39mcorr()\n\u001b[0;32m      3\u001b[0m plt\u001b[38;5;241m.\u001b[39mfigure(figsize\u001b[38;5;241m=\u001b[39m(\u001b[38;5;241m10\u001b[39m, \u001b[38;5;241m8\u001b[39m))\n\u001b[0;32m      4\u001b[0m sns\u001b[38;5;241m.\u001b[39mheatmap(correlation_matrix, annot\u001b[38;5;241m=\u001b[39m\u001b[38;5;28;01mTrue\u001b[39;00m, cmap\u001b[38;5;241m=\u001b[39m\u001b[38;5;124m'\u001b[39m\u001b[38;5;124mcoolwarm\u001b[39m\u001b[38;5;124m'\u001b[39m, fmt\u001b[38;5;241m=\u001b[39m\u001b[38;5;124m\"\u001b[39m\u001b[38;5;124m.2f\u001b[39m\u001b[38;5;124m\"\u001b[39m)\n",
      "File \u001b[1;32m~\\anaconda3\\Lib\\site-packages\\pandas\\core\\frame.py:10704\u001b[0m, in \u001b[0;36mDataFrame.corr\u001b[1;34m(self, method, min_periods, numeric_only)\u001b[0m\n\u001b[0;32m  10702\u001b[0m cols \u001b[38;5;241m=\u001b[39m data\u001b[38;5;241m.\u001b[39mcolumns\n\u001b[0;32m  10703\u001b[0m idx \u001b[38;5;241m=\u001b[39m cols\u001b[38;5;241m.\u001b[39mcopy()\n\u001b[1;32m> 10704\u001b[0m mat \u001b[38;5;241m=\u001b[39m data\u001b[38;5;241m.\u001b[39mto_numpy(dtype\u001b[38;5;241m=\u001b[39m\u001b[38;5;28mfloat\u001b[39m, na_value\u001b[38;5;241m=\u001b[39mnp\u001b[38;5;241m.\u001b[39mnan, copy\u001b[38;5;241m=\u001b[39m\u001b[38;5;28;01mFalse\u001b[39;00m)\n\u001b[0;32m  10706\u001b[0m \u001b[38;5;28;01mif\u001b[39;00m method \u001b[38;5;241m==\u001b[39m \u001b[38;5;124m\"\u001b[39m\u001b[38;5;124mpearson\u001b[39m\u001b[38;5;124m\"\u001b[39m:\n\u001b[0;32m  10707\u001b[0m     correl \u001b[38;5;241m=\u001b[39m libalgos\u001b[38;5;241m.\u001b[39mnancorr(mat, minp\u001b[38;5;241m=\u001b[39mmin_periods)\n",
      "File \u001b[1;32m~\\anaconda3\\Lib\\site-packages\\pandas\\core\\frame.py:1889\u001b[0m, in \u001b[0;36mDataFrame.to_numpy\u001b[1;34m(self, dtype, copy, na_value)\u001b[0m\n\u001b[0;32m   1887\u001b[0m \u001b[38;5;28;01mif\u001b[39;00m dtype \u001b[38;5;129;01mis\u001b[39;00m \u001b[38;5;129;01mnot\u001b[39;00m \u001b[38;5;28;01mNone\u001b[39;00m:\n\u001b[0;32m   1888\u001b[0m     dtype \u001b[38;5;241m=\u001b[39m np\u001b[38;5;241m.\u001b[39mdtype(dtype)\n\u001b[1;32m-> 1889\u001b[0m result \u001b[38;5;241m=\u001b[39m \u001b[38;5;28mself\u001b[39m\u001b[38;5;241m.\u001b[39m_mgr\u001b[38;5;241m.\u001b[39mas_array(dtype\u001b[38;5;241m=\u001b[39mdtype, copy\u001b[38;5;241m=\u001b[39mcopy, na_value\u001b[38;5;241m=\u001b[39mna_value)\n\u001b[0;32m   1890\u001b[0m \u001b[38;5;28;01mif\u001b[39;00m result\u001b[38;5;241m.\u001b[39mdtype \u001b[38;5;129;01mis\u001b[39;00m \u001b[38;5;129;01mnot\u001b[39;00m dtype:\n\u001b[0;32m   1891\u001b[0m     result \u001b[38;5;241m=\u001b[39m np\u001b[38;5;241m.\u001b[39marray(result, dtype\u001b[38;5;241m=\u001b[39mdtype, copy\u001b[38;5;241m=\u001b[39m\u001b[38;5;28;01mFalse\u001b[39;00m)\n",
      "File \u001b[1;32m~\\anaconda3\\Lib\\site-packages\\pandas\\core\\internals\\managers.py:1656\u001b[0m, in \u001b[0;36mBlockManager.as_array\u001b[1;34m(self, dtype, copy, na_value)\u001b[0m\n\u001b[0;32m   1654\u001b[0m         arr\u001b[38;5;241m.\u001b[39mflags\u001b[38;5;241m.\u001b[39mwriteable \u001b[38;5;241m=\u001b[39m \u001b[38;5;28;01mFalse\u001b[39;00m\n\u001b[0;32m   1655\u001b[0m \u001b[38;5;28;01melse\u001b[39;00m:\n\u001b[1;32m-> 1656\u001b[0m     arr \u001b[38;5;241m=\u001b[39m \u001b[38;5;28mself\u001b[39m\u001b[38;5;241m.\u001b[39m_interleave(dtype\u001b[38;5;241m=\u001b[39mdtype, na_value\u001b[38;5;241m=\u001b[39mna_value)\n\u001b[0;32m   1657\u001b[0m     \u001b[38;5;66;03m# The underlying data was copied within _interleave, so no need\u001b[39;00m\n\u001b[0;32m   1658\u001b[0m     \u001b[38;5;66;03m# to further copy if copy=True or setting na_value\u001b[39;00m\n\u001b[0;32m   1660\u001b[0m \u001b[38;5;28;01mif\u001b[39;00m na_value \u001b[38;5;129;01mis\u001b[39;00m lib\u001b[38;5;241m.\u001b[39mno_default:\n",
      "File \u001b[1;32m~\\anaconda3\\Lib\\site-packages\\pandas\\core\\internals\\managers.py:1715\u001b[0m, in \u001b[0;36mBlockManager._interleave\u001b[1;34m(self, dtype, na_value)\u001b[0m\n\u001b[0;32m   1713\u001b[0m     \u001b[38;5;28;01melse\u001b[39;00m:\n\u001b[0;32m   1714\u001b[0m         arr \u001b[38;5;241m=\u001b[39m blk\u001b[38;5;241m.\u001b[39mget_values(dtype)\n\u001b[1;32m-> 1715\u001b[0m     result[rl\u001b[38;5;241m.\u001b[39mindexer] \u001b[38;5;241m=\u001b[39m arr\n\u001b[0;32m   1716\u001b[0m     itemmask[rl\u001b[38;5;241m.\u001b[39mindexer] \u001b[38;5;241m=\u001b[39m \u001b[38;5;241m1\u001b[39m\n\u001b[0;32m   1718\u001b[0m \u001b[38;5;28;01mif\u001b[39;00m \u001b[38;5;129;01mnot\u001b[39;00m itemmask\u001b[38;5;241m.\u001b[39mall():\n",
      "\u001b[1;31mValueError\u001b[0m: could not convert string to float: 'Wii Sports'"
     ]
    }
   ],
   "source": [
    "# Correlation matrix\n",
    "correlation_matrix = dataset.corr()\n",
    "plt.figure(figsize=(10, 8))\n",
    "sns.heatmap(correlation_matrix, annot=True, cmap='coolwarm', fmt=\".2f\")\n",
    "plt.title('Correlation Matrix')\n",
    "plt.show()"
   ]
  },
  {
   "cell_type": "code",
   "execution_count": 15,
   "id": "bcef47ec",
   "metadata": {
    "colab": {
     "base_uri": "https://localhost:8080/",
     "height": 356
    },
    "id": "bcef47ec",
    "outputId": "3bfb6c3b-0cd9-444a-a820-bd301d164fc1"
   },
   "outputs": [
    {
     "data": {
      "image/png": "[encoded data removed]",
      "text/plain": [
       "<Figure size 600x300 with 1 Axes>"
      ]
     },
     "metadata": {},
     "output_type": "display_data"
    }
   ],
   "source": [
    "import matplotlib.pyplot as plt\n",
    "import seaborn as sns\n",
    "\n",
    "# Count the frequency of each rating category\n",
    "rating_counts = dataset['Rating'].value_counts()\n",
    "\n",
    "# Plot a bar chart\n",
    "plt.figure(figsize=(6, 3))\n",
    "rating_counts.plot(kind='bar', color='skyblue')\n",
    "plt.title('Frequency of Ratings')\n",
    "plt.xlabel('Rating')\n",
    "plt.ylabel('Frequency')\n",
    "plt.xticks(rotation=45)\n",
    "plt.show()"
   ]
  },
  {
   "cell_type": "code",
   "execution_count": 16,
   "id": "af43aab2",
   "metadata": {
    "colab": {
     "base_uri": "https://localhost:8080/",
     "height": 675
    },
    "id": "af43aab2",
    "outputId": "b81de72d-88a7-42b8-a553-4eb4febcc330"
   },
   "outputs": [
    {
     "data": {
      "image/png": "[encoded data removed]",
      "text/plain": [
       "<Figure size 800x800 with 1 Axes>"
      ]
     },
     "metadata": {},
     "output_type": "display_data"
    }
   ],
   "source": [
    "# Plot a pie chart\n",
    "plt.figure(figsize=(8, 8))\n",
    "plt.pie(rating_counts, labels=rating_counts.index, autopct='%1.1f%%', startangle=140)\n",
    "plt.title('Distribution of Ratings')\n",
    "plt.axis('equal')\n",
    "plt.show()\n"
   ]
  },
  {
   "cell_type": "code",
   "execution_count": 17,
   "id": "6a7c7dc6",
   "metadata": {
    "colab": {
     "base_uri": "https://localhost:8080/",
     "height": 463
    },
    "id": "6a7c7dc6",
    "outputId": "73f10ec4-0f3b-49df-fc77-84b4e4fb83f0"
   },
   "outputs": [
    {
     "data": {
      "image/png": "[encoded data removed]",
      "text/plain": [
       "<Figure size 600x300 with 1 Axes>"
      ]
     },
     "metadata": {},
     "output_type": "display_data"
    }
   ],
   "source": [
    "\n",
    "# Plot a count plot\n",
    "plt.figure(figsize=(6, 3))\n",
    "sns.countplot(data=dataset, x='Rating', palette='pastel')\n",
    "plt.title('Count of Ratings')\n",
    "plt.xlabel('Rating')\n",
    "plt.ylabel('Count')\n",
    "plt.xticks(rotation=45)\n",
    "plt.show()\n"
   ]
  },
  {
   "cell_type": "code",
   "execution_count": 18,
   "id": "47f22367",
   "metadata": {
    "colab": {
     "base_uri": "https://localhost:8080/",
     "height": 436
    },
    "id": "47f22367",
    "outputId": "c6ec2656-8634-4111-86d4-52ce668cfc87"
   },
   "outputs": [
    {
     "data": {
      "image/png": "[encoded data removed]",
      "text/plain": [
       "<Figure size 1000x600 with 1 Axes>"
      ]
     },
     "metadata": {},
     "output_type": "display_data"
    }
   ],
   "source": [
    "# Plot a box plot\n",
    "plt.figure(figsize=(10, 6))\n",
    "sns.boxplot(data=dataset, x='Rating', y='Global_Sales')\n",
    "plt.title('Global Sales Distribution by Rating')\n",
    "plt.xlabel('Rating')\n",
    "plt.ylabel('Global Sales')\n",
    "plt.show()\n"
   ]
  },
  {
   "cell_type": "code",
   "execution_count": 19,
   "id": "9ca5efe7",
   "metadata": {
    "colab": {
     "base_uri": "https://localhost:8080/",
     "height": 503
    },
    "id": "9ca5efe7",
    "outputId": "7de718f5-6672-46dc-f4a9-7e8898d0eb2e"
   },
   "outputs": [
    {
     "data": {
      "image/png": "[encoded data removed]",
      "text/plain": [
       "<Figure size 1200x800 with 1 Axes>"
      ]
     },
     "metadata": {},
     "output_type": "display_data"
    }
   ],
   "source": [
    "# Feature distribution\n",
    "# Box plot of Critic_Score by Genre\n",
    "plt.figure(figsize=(12, 8))\n",
    "sns.boxplot(x='Genre', y='Critic_Score', data=dataset)\n",
    "plt.title('Distribution of Critic Score by Genre')\n",
    "plt.xticks(rotation=45)\n",
    "plt.show()"
   ]
  },
  {
   "cell_type": "code",
   "execution_count": 20,
   "id": "8e23fcca",
   "metadata": {
    "colab": {
     "base_uri": "https://localhost:8080/",
     "height": 583
    },
    "id": "8e23fcca",
    "outputId": "76342f4c-ab6f-4139-d1f6-654a20f8ec11"
   },
   "outputs": [
    {
     "data": {
      "image/png": "[encoded data removed]",
      "text/plain": [
       "<Figure size 800x600 with 1 Axes>"
      ]
     },
     "metadata": {},
     "output_type": "display_data"
    }
   ],
   "source": [
    "# Categorical variables\n",
    "# Count plot of Genre\n",
    "plt.figure(figsize=(8, 6))\n",
    "sns.countplot(x='Genre', data=dataset)\n",
    "plt.title('Count of Games by Genre')\n",
    "plt.xticks(rotation=90)\n",
    "plt.show()"
   ]
  },
  {
   "cell_type": "code",
   "execution_count": 21,
   "id": "6ac0bf2d",
   "metadata": {
    "colab": {
     "base_uri": "https://localhost:8080/",
     "height": 663
    },
    "id": "6ac0bf2d",
    "outputId": "74e5b70d-54b8-4daf-8b7a-2f89830f180c",
    "scrolled": true
   },
   "outputs": [
    {
     "name": "stderr",
     "output_type": "stream",
     "text": [
      "C:\\Users\\Owner\\anaconda3\\Lib\\site-packages\\seaborn\\_oldcore.py:1119: FutureWarning: use_inf_as_na option is deprecated and will be removed in a future version. Convert inf values to NaN before operating instead.\n",
      "  with pd.option_context('mode.use_inf_as_na', True):\n",
      "C:\\Users\\Owner\\anaconda3\\Lib\\site-packages\\seaborn\\_oldcore.py:1119: FutureWarning: use_inf_as_na option is deprecated and will be removed in a future version. Convert inf values to NaN before operating instead.\n",
      "  with pd.option_context('mode.use_inf_as_na', True):\n",
      "C:\\Users\\Owner\\anaconda3\\Lib\\site-packages\\seaborn\\_oldcore.py:1119: FutureWarning: use_inf_as_na option is deprecated and will be removed in a future version. Convert inf values to NaN before operating instead.\n",
      "  with pd.option_context('mode.use_inf_as_na', True):\n",
      "C:\\Users\\Owner\\anaconda3\\Lib\\site-packages\\seaborn\\_oldcore.py:1119: FutureWarning: use_inf_as_na option is deprecated and will be removed in a future version. Convert inf values to NaN before operating instead.\n",
      "  with pd.option_context('mode.use_inf_as_na', True):\n"
     ]
    },
    {
     "data": {
      "image/png": "[encoded data removed]",
      "text/plain": [
       "<Figure size 1000x1000 with 20 Axes>"
      ]
     },
     "metadata": {},
     "output_type": "display_data"
    }
   ],
   "source": [
    "# Pairwise relationships\n",
    "# Pair plot of numerical variables\n",
    "sns.pairplot(dataset[['Global_Sales', 'Critic_Score', 'User_Score', 'User_Count']])\n",
    "plt.title('Pairwise Relationships')\n",
    "plt.show()"
   ]
  },
  {
   "cell_type": "code",
   "execution_count": 22,
   "id": "066134ba",
   "metadata": {
    "colab": {
     "base_uri": "https://localhost:8080/",
     "height": 564
    },
    "id": "066134ba",
    "outputId": "b39fbb55-4064-40be-f6f0-efde60711466",
    "scrolled": true
   },
   "outputs": [
    {
     "data": {
      "image/png": "[encoded data removed]",
      "text/plain": [
       "<Figure size 800x600 with 1 Axes>"
      ]
     },
     "metadata": {},
     "output_type": "display_data"
    }
   ],
   "source": [
    "# Outlier detection\n",
    "# Box plot of Global_Sales\n",
    "plt.figure(figsize=(8, 6))\n",
    "sns.boxplot(x=dataset['Global_Sales'])\n",
    "plt.title('Box plot of Global Sales')\n",
    "plt.xlabel('Global Sales')\n",
    "plt.show()"
   ]
  },
  {
   "cell_type": "markdown",
   "id": "2d35db26",
   "metadata": {
    "id": "2d35db26"
   },
   "source": [
    "### Encoding categorical variables\n",
    "\n",
    "Categorical variables are variables which contain label values rather than numeric values.The number of possible values is often limited to a fixed set.\n",
    "\n",
    "So we are using Label Encoder to label the categorical data. Label Encoder is the part of SciKit Learn library in Python and used to convert categorical data, or text data, into numbers, which our predictive models can better understand."
   ]
  },
  {
   "cell_type": "code",
   "execution_count": 23,
   "id": "c8c59717",
   "metadata": {
    "colab": {
     "base_uri": "https://localhost:8080/"
    },
    "id": "c8c59717",
    "outputId": "a13882bd-b587-4ae5-9b12-b66705ca9a9b"
   },
   "outputs": [
    {
     "data": {
      "text/plain": [
       "0        E\n",
       "1        E\n",
       "2        E\n",
       "3        E\n",
       "4        E\n",
       "        ..\n",
       "16714    E\n",
       "16715    E\n",
       "16716    E\n",
       "16717    E\n",
       "16718    E\n",
       "Name: Rating, Length: 16717, dtype: object"
      ]
     },
     "execution_count": 23,
     "metadata": {},
     "output_type": "execute_result"
    }
   ],
   "source": [
    "#Before Encoding\n",
    "dataset['Platform']\n",
    "dataset['Genre']\n",
    "dataset['Publisher']\n",
    "dataset['Name']\n",
    "dataset['Developer']\n",
    "dataset['Rating']"
   ]
  },
  {
   "cell_type": "code",
   "execution_count": 24,
   "id": "2d3d2d2f",
   "metadata": {
    "colab": {
     "base_uri": "https://localhost:8080/",
     "height": 295
    },
    "id": "2d3d2d2f",
    "outputId": "a99ad08e-cbf6-4b7d-f2df-c7444ac30543",
    "scrolled": true
   },
   "outputs": [
    {
     "data": {
      "text/html": [
       "<div>\n",
       "<style scoped>\n",
       "    .dataframe tbody tr th:only-of-type {\n",
       "        vertical-align: middle;\n",
       "    }\n",
       "\n",
       "    .dataframe tbody tr th {\n",
       "        vertical-align: top;\n",
       "    }\n",
       "\n",
       "    .dataframe thead th {\n",
       "        text-align: right;\n",
       "    }\n",
       "</style>\n",
       "<table border=\"1\" class=\"dataframe\">\n",
       "  <thead>\n",
       "    <tr style=\"text-align: right;\">\n",
       "      <th></th>\n",
       "      <th>Name</th>\n",
       "      <th>Platform</th>\n",
       "      <th>Year_of_Release</th>\n",
       "      <th>Genre</th>\n",
       "      <th>Publisher</th>\n",
       "      <th>NA_Sales</th>\n",
       "      <th>EU_Sales</th>\n",
       "      <th>JP_Sales</th>\n",
       "      <th>Other_Sales</th>\n",
       "      <th>Global_Sales</th>\n",
       "      <th>Critic_Score</th>\n",
       "      <th>Critic_Count</th>\n",
       "      <th>User_Score</th>\n",
       "      <th>User_Count</th>\n",
       "      <th>Developer</th>\n",
       "      <th>Rating</th>\n",
       "    </tr>\n",
       "  </thead>\n",
       "  <tbody>\n",
       "    <tr>\n",
       "      <th>0</th>\n",
       "      <td>Wii Sports</td>\n",
       "      <td>Wii</td>\n",
       "      <td>2006</td>\n",
       "      <td>Sports</td>\n",
       "      <td>Nintendo</td>\n",
       "      <td>41.36</td>\n",
       "      <td>28.96</td>\n",
       "      <td>3.77</td>\n",
       "      <td>8.45</td>\n",
       "      <td>82.53</td>\n",
       "      <td>76.000000</td>\n",
       "      <td>51.000000</td>\n",
       "      <td>8.000000</td>\n",
       "      <td>322.000000</td>\n",
       "      <td>Nintendo</td>\n",
       "      <td>E</td>\n",
       "    </tr>\n",
       "    <tr>\n",
       "      <th>1</th>\n",
       "      <td>Super Mario Bros.</td>\n",
       "      <td>NES</td>\n",
       "      <td>1985</td>\n",
       "      <td>Platform</td>\n",
       "      <td>Nintendo</td>\n",
       "      <td>29.08</td>\n",
       "      <td>3.58</td>\n",
       "      <td>6.81</td>\n",
       "      <td>0.77</td>\n",
       "      <td>40.24</td>\n",
       "      <td>68.967679</td>\n",
       "      <td>26.360821</td>\n",
       "      <td>7.125046</td>\n",
       "      <td>162.229908</td>\n",
       "      <td>Ubisoft</td>\n",
       "      <td>E</td>\n",
       "    </tr>\n",
       "    <tr>\n",
       "      <th>2</th>\n",
       "      <td>Mario Kart Wii</td>\n",
       "      <td>Wii</td>\n",
       "      <td>2008</td>\n",
       "      <td>Racing</td>\n",
       "      <td>Nintendo</td>\n",
       "      <td>15.68</td>\n",
       "      <td>12.76</td>\n",
       "      <td>3.79</td>\n",
       "      <td>3.29</td>\n",
       "      <td>35.52</td>\n",
       "      <td>82.000000</td>\n",
       "      <td>73.000000</td>\n",
       "      <td>8.300000</td>\n",
       "      <td>709.000000</td>\n",
       "      <td>Nintendo</td>\n",
       "      <td>E</td>\n",
       "    </tr>\n",
       "    <tr>\n",
       "      <th>3</th>\n",
       "      <td>Wii Sports Resort</td>\n",
       "      <td>Wii</td>\n",
       "      <td>2009</td>\n",
       "      <td>Sports</td>\n",
       "      <td>Nintendo</td>\n",
       "      <td>15.61</td>\n",
       "      <td>10.93</td>\n",
       "      <td>3.28</td>\n",
       "      <td>2.95</td>\n",
       "      <td>32.77</td>\n",
       "      <td>80.000000</td>\n",
       "      <td>73.000000</td>\n",
       "      <td>8.000000</td>\n",
       "      <td>192.000000</td>\n",
       "      <td>Nintendo</td>\n",
       "      <td>E</td>\n",
       "    </tr>\n",
       "    <tr>\n",
       "      <th>4</th>\n",
       "      <td>Pokemon Red/Pokemon Blue</td>\n",
       "      <td>GB</td>\n",
       "      <td>1996</td>\n",
       "      <td>Role-Playing</td>\n",
       "      <td>Nintendo</td>\n",
       "      <td>11.27</td>\n",
       "      <td>8.89</td>\n",
       "      <td>10.22</td>\n",
       "      <td>1.00</td>\n",
       "      <td>31.37</td>\n",
       "      <td>68.967679</td>\n",
       "      <td>26.360821</td>\n",
       "      <td>7.125046</td>\n",
       "      <td>162.229908</td>\n",
       "      <td>Ubisoft</td>\n",
       "      <td>E</td>\n",
       "    </tr>\n",
       "  </tbody>\n",
       "</table>\n",
       "</div>"
      ],
      "text/plain": [
       "                       Name Platform  Year_of_Release         Genre Publisher  \\\n",
       "0                Wii Sports      Wii             2006        Sports  Nintendo   \n",
       "1         Super Mario Bros.      NES             1985      Platform  Nintendo   \n",
       "2            Mario Kart Wii      Wii             2008        Racing  Nintendo   \n",
       "3         Wii Sports Resort      Wii             2009        Sports  Nintendo   \n",
       "4  Pokemon Red/Pokemon Blue       GB             1996  Role-Playing  Nintendo   \n",
       "\n",
       "   NA_Sales  EU_Sales  JP_Sales  Other_Sales  Global_Sales  Critic_Score  \\\n",
       "0     41.36     28.96      3.77         8.45         82.53     76.000000   \n",
       "1     29.08      3.58      6.81         0.77         40.24     68.967679   \n",
       "2     15.68     12.76      3.79         3.29         35.52     82.000000   \n",
       "3     15.61     10.93      3.28         2.95         32.77     80.000000   \n",
       "4     11.27      8.89     10.22         1.00         31.37     68.967679   \n",
       "\n",
       "   Critic_Count  User_Score  User_Count Developer Rating  \n",
       "0     51.000000    8.000000  322.000000  Nintendo      E  \n",
       "1     26.360821    7.125046  162.229908   Ubisoft      E  \n",
       "2     73.000000    8.300000  709.000000  Nintendo      E  \n",
       "3     73.000000    8.000000  192.000000  Nintendo      E  \n",
       "4     26.360821    7.125046  162.229908   Ubisoft      E  "
      ]
     },
     "execution_count": 24,
     "metadata": {},
     "output_type": "execute_result"
    }
   ],
   "source": [
    "dataset.head()"
   ]
  },
  {
   "cell_type": "code",
   "execution_count": 25,
   "id": "DSawI5WentWV",
   "metadata": {
    "id": "DSawI5WentWV"
   },
   "outputs": [],
   "source": [
    "dataset.to_csv('mod_video_games.csv', index=False)\n"
   ]
  },
  {
   "cell_type": "code",
   "execution_count": 26,
   "id": "970c8d62",
   "metadata": {
    "id": "970c8d62"
   },
   "outputs": [],
   "source": [
    "#Encoding categorical variables\n",
    "from sklearn.preprocessing import LabelEncoder\n",
    "le = LabelEncoder()\n",
    "dataset.Platform = le.fit_transform(dataset.Platform)\n",
    "dataset.Genre = le.fit_transform(dataset.Genre)\n",
    "dataset.Publisher = le.fit_transform(dataset.Publisher)\n",
    "dataset.Name = le.fit_transform(dataset.Name)\n",
    "dataset.Developer = le.fit_transform(dataset.Developer)\n",
    "dataset.Rating = le.fit_transform(dataset.Rating)\n"
   ]
  },
  {
   "cell_type": "code",
   "execution_count": 27,
   "id": "zFDacUukSv5u",
   "metadata": {
    "id": "zFDacUukSv5u"
   },
   "outputs": [],
   "source": [
    "# Combine all categorical columns\n",
    "categorical_columns = ['Platform', 'Genre', 'Publisher', 'Name', 'Developer', 'Rating']\n",
    "combined_categorical_data = dataset[categorical_columns]\n",
    "\n",
    "# Initialize LabelEncoder\n",
    "le = LabelEncoder()\n",
    "\n",
    "# Fit LabelEncoder on combined categorical data\n",
    "le.fit(combined_categorical_data.values.ravel())\n",
    "\n",
    "# Now transform each individual column\n",
    "for column in categorical_columns:\n",
    "    dataset[column] = le.transform(dataset[column])"
   ]
  },
  {
   "cell_type": "code",
   "execution_count": 28,
   "id": "FRpDexonWdtw",
   "metadata": {
    "colab": {
     "base_uri": "https://localhost:8080/",
     "height": 443
    },
    "id": "FRpDexonWdtw",
    "outputId": "c429c104-9620-458b-a2df-3a9627cf4ec3"
   },
   "outputs": [
    {
     "data": {
      "text/html": [
       "<div>\n",
       "<style scoped>\n",
       "    .dataframe tbody tr th:only-of-type {\n",
       "        vertical-align: middle;\n",
       "    }\n",
       "\n",
       "    .dataframe tbody tr th {\n",
       "        vertical-align: top;\n",
       "    }\n",
       "\n",
       "    .dataframe thead th {\n",
       "        text-align: right;\n",
       "    }\n",
       "</style>\n",
       "<table border=\"1\" class=\"dataframe\">\n",
       "  <thead>\n",
       "    <tr style=\"text-align: right;\">\n",
       "      <th></th>\n",
       "      <th>Name</th>\n",
       "      <th>Platform</th>\n",
       "      <th>Year_of_Release</th>\n",
       "      <th>Genre</th>\n",
       "      <th>Publisher</th>\n",
       "      <th>NA_Sales</th>\n",
       "      <th>EU_Sales</th>\n",
       "      <th>JP_Sales</th>\n",
       "      <th>Other_Sales</th>\n",
       "      <th>Global_Sales</th>\n",
       "      <th>Critic_Score</th>\n",
       "      <th>Critic_Count</th>\n",
       "      <th>User_Score</th>\n",
       "      <th>User_Count</th>\n",
       "      <th>Developer</th>\n",
       "      <th>Rating</th>\n",
       "    </tr>\n",
       "  </thead>\n",
       "  <tbody>\n",
       "    <tr>\n",
       "      <th>0</th>\n",
       "      <td>11075</td>\n",
       "      <td>26</td>\n",
       "      <td>2006</td>\n",
       "      <td>10</td>\n",
       "      <td>361</td>\n",
       "      <td>41.36</td>\n",
       "      <td>28.96</td>\n",
       "      <td>3.77</td>\n",
       "      <td>8.45</td>\n",
       "      <td>82.53</td>\n",
       "      <td>76.000000</td>\n",
       "      <td>51.000000</td>\n",
       "      <td>8.000000</td>\n",
       "      <td>322.000000</td>\n",
       "      <td>1020</td>\n",
       "      <td>1</td>\n",
       "    </tr>\n",
       "    <tr>\n",
       "      <th>1</th>\n",
       "      <td>9389</td>\n",
       "      <td>11</td>\n",
       "      <td>1985</td>\n",
       "      <td>4</td>\n",
       "      <td>361</td>\n",
       "      <td>29.08</td>\n",
       "      <td>3.58</td>\n",
       "      <td>6.81</td>\n",
       "      <td>0.77</td>\n",
       "      <td>40.24</td>\n",
       "      <td>68.967679</td>\n",
       "      <td>26.360821</td>\n",
       "      <td>7.125046</td>\n",
       "      <td>162.229908</td>\n",
       "      <td>1539</td>\n",
       "      <td>1</td>\n",
       "    </tr>\n",
       "    <tr>\n",
       "      <th>2</th>\n",
       "      <td>5613</td>\n",
       "      <td>26</td>\n",
       "      <td>2008</td>\n",
       "      <td>6</td>\n",
       "      <td>361</td>\n",
       "      <td>15.68</td>\n",
       "      <td>12.76</td>\n",
       "      <td>3.79</td>\n",
       "      <td>3.29</td>\n",
       "      <td>35.52</td>\n",
       "      <td>82.000000</td>\n",
       "      <td>73.000000</td>\n",
       "      <td>8.300000</td>\n",
       "      <td>709.000000</td>\n",
       "      <td>1020</td>\n",
       "      <td>1</td>\n",
       "    </tr>\n",
       "    <tr>\n",
       "      <th>3</th>\n",
       "      <td>11077</td>\n",
       "      <td>26</td>\n",
       "      <td>2009</td>\n",
       "      <td>10</td>\n",
       "      <td>361</td>\n",
       "      <td>15.61</td>\n",
       "      <td>10.93</td>\n",
       "      <td>3.28</td>\n",
       "      <td>2.95</td>\n",
       "      <td>32.77</td>\n",
       "      <td>80.000000</td>\n",
       "      <td>73.000000</td>\n",
       "      <td>8.000000</td>\n",
       "      <td>192.000000</td>\n",
       "      <td>1020</td>\n",
       "      <td>1</td>\n",
       "    </tr>\n",
       "    <tr>\n",
       "      <th>4</th>\n",
       "      <td>7392</td>\n",
       "      <td>5</td>\n",
       "      <td>1996</td>\n",
       "      <td>7</td>\n",
       "      <td>361</td>\n",
       "      <td>11.27</td>\n",
       "      <td>8.89</td>\n",
       "      <td>10.22</td>\n",
       "      <td>1.00</td>\n",
       "      <td>31.37</td>\n",
       "      <td>68.967679</td>\n",
       "      <td>26.360821</td>\n",
       "      <td>7.125046</td>\n",
       "      <td>162.229908</td>\n",
       "      <td>1539</td>\n",
       "      <td>1</td>\n",
       "    </tr>\n",
       "    <tr>\n",
       "      <th>...</th>\n",
       "      <td>...</td>\n",
       "      <td>...</td>\n",
       "      <td>...</td>\n",
       "      <td>...</td>\n",
       "      <td>...</td>\n",
       "      <td>...</td>\n",
       "      <td>...</td>\n",
       "      <td>...</td>\n",
       "      <td>...</td>\n",
       "      <td>...</td>\n",
       "      <td>...</td>\n",
       "      <td>...</td>\n",
       "      <td>...</td>\n",
       "      <td>...</td>\n",
       "      <td>...</td>\n",
       "      <td>...</td>\n",
       "    </tr>\n",
       "    <tr>\n",
       "      <th>16714</th>\n",
       "      <td>8343</td>\n",
       "      <td>17</td>\n",
       "      <td>2016</td>\n",
       "      <td>0</td>\n",
       "      <td>503</td>\n",
       "      <td>0.00</td>\n",
       "      <td>0.00</td>\n",
       "      <td>0.01</td>\n",
       "      <td>0.00</td>\n",
       "      <td>0.01</td>\n",
       "      <td>68.967679</td>\n",
       "      <td>26.360821</td>\n",
       "      <td>7.125046</td>\n",
       "      <td>162.229908</td>\n",
       "      <td>1539</td>\n",
       "      <td>1</td>\n",
       "    </tr>\n",
       "    <tr>\n",
       "      <th>16715</th>\n",
       "      <td>5160</td>\n",
       "      <td>28</td>\n",
       "      <td>2006</td>\n",
       "      <td>10</td>\n",
       "      <td>91</td>\n",
       "      <td>0.00</td>\n",
       "      <td>0.01</td>\n",
       "      <td>0.00</td>\n",
       "      <td>0.00</td>\n",
       "      <td>0.01</td>\n",
       "      <td>68.967679</td>\n",
       "      <td>26.360821</td>\n",
       "      <td>7.125046</td>\n",
       "      <td>162.229908</td>\n",
       "      <td>1539</td>\n",
       "      <td>1</td>\n",
       "    </tr>\n",
       "    <tr>\n",
       "      <th>16716</th>\n",
       "      <td>3890</td>\n",
       "      <td>20</td>\n",
       "      <td>2016</td>\n",
       "      <td>1</td>\n",
       "      <td>233</td>\n",
       "      <td>0.00</td>\n",
       "      <td>0.00</td>\n",
       "      <td>0.01</td>\n",
       "      <td>0.00</td>\n",
       "      <td>0.01</td>\n",
       "      <td>68.967679</td>\n",
       "      <td>26.360821</td>\n",
       "      <td>7.125046</td>\n",
       "      <td>162.229908</td>\n",
       "      <td>1539</td>\n",
       "      <td>1</td>\n",
       "    </tr>\n",
       "    <tr>\n",
       "      <th>16717</th>\n",
       "      <td>9028</td>\n",
       "      <td>6</td>\n",
       "      <td>2003</td>\n",
       "      <td>4</td>\n",
       "      <td>549</td>\n",
       "      <td>0.01</td>\n",
       "      <td>0.00</td>\n",
       "      <td>0.00</td>\n",
       "      <td>0.00</td>\n",
       "      <td>0.01</td>\n",
       "      <td>68.967679</td>\n",
       "      <td>26.360821</td>\n",
       "      <td>7.125046</td>\n",
       "      <td>162.229908</td>\n",
       "      <td>1539</td>\n",
       "      <td>1</td>\n",
       "    </tr>\n",
       "    <tr>\n",
       "      <th>16718</th>\n",
       "      <td>11120</td>\n",
       "      <td>20</td>\n",
       "      <td>2016</td>\n",
       "      <td>9</td>\n",
       "      <td>503</td>\n",
       "      <td>0.00</td>\n",
       "      <td>0.00</td>\n",
       "      <td>0.01</td>\n",
       "      <td>0.00</td>\n",
       "      <td>0.01</td>\n",
       "      <td>68.967679</td>\n",
       "      <td>26.360821</td>\n",
       "      <td>7.125046</td>\n",
       "      <td>162.229908</td>\n",
       "      <td>1539</td>\n",
       "      <td>1</td>\n",
       "    </tr>\n",
       "  </tbody>\n",
       "</table>\n",
       "<p>16717 rows × 16 columns</p>\n",
       "</div>"
      ],
      "text/plain": [
       "        Name  Platform  Year_of_Release  Genre  Publisher  NA_Sales  EU_Sales  \\\n",
       "0      11075        26             2006     10        361     41.36     28.96   \n",
       "1       9389        11             1985      4        361     29.08      3.58   \n",
       "2       5613        26             2008      6        361     15.68     12.76   \n",
       "3      11077        26             2009     10        361     15.61     10.93   \n",
       "4       7392         5             1996      7        361     11.27      8.89   \n",
       "...      ...       ...              ...    ...        ...       ...       ...   \n",
       "16714   8343        17             2016      0        503      0.00      0.00   \n",
       "16715   5160        28             2006     10         91      0.00      0.01   \n",
       "16716   3890        20             2016      1        233      0.00      0.00   \n",
       "16717   9028         6             2003      4        549      0.01      0.00   \n",
       "16718  11120        20             2016      9        503      0.00      0.00   \n",
       "\n",
       "       JP_Sales  Other_Sales  Global_Sales  Critic_Score  Critic_Count  \\\n",
       "0          3.77         8.45         82.53     76.000000     51.000000   \n",
       "1          6.81         0.77         40.24     68.967679     26.360821   \n",
       "2          3.79         3.29         35.52     82.000000     73.000000   \n",
       "3          3.28         2.95         32.77     80.000000     73.000000   \n",
       "4         10.22         1.00         31.37     68.967679     26.360821   \n",
       "...         ...          ...           ...           ...           ...   \n",
       "16714      0.01         0.00          0.01     68.967679     26.360821   \n",
       "16715      0.00         0.00          0.01     68.967679     26.360821   \n",
       "16716      0.01         0.00          0.01     68.967679     26.360821   \n",
       "16717      0.00         0.00          0.01     68.967679     26.360821   \n",
       "16718      0.01         0.00          0.01     68.967679     26.360821   \n",
       "\n",
       "       User_Score  User_Count  Developer  Rating  \n",
       "0        8.000000  322.000000       1020       1  \n",
       "1        7.125046  162.229908       1539       1  \n",
       "2        8.300000  709.000000       1020       1  \n",
       "3        8.000000  192.000000       1020       1  \n",
       "4        7.125046  162.229908       1539       1  \n",
       "...           ...         ...        ...     ...  \n",
       "16714    7.125046  162.229908       1539       1  \n",
       "16715    7.125046  162.229908       1539       1  \n",
       "16716    7.125046  162.229908       1539       1  \n",
       "16717    7.125046  162.229908       1539       1  \n",
       "16718    7.125046  162.229908       1539       1  \n",
       "\n",
       "[16717 rows x 16 columns]"
      ]
     },
     "execution_count": 28,
     "metadata": {},
     "output_type": "execute_result"
    }
   ],
   "source": [
    "dataset"
   ]
  },
  {
   "cell_type": "code",
   "execution_count": 29,
   "id": "ad57f8ed",
   "metadata": {
    "colab": {
     "base_uri": "https://localhost:8080/"
    },
    "id": "ad57f8ed",
    "outputId": "627d9fe8-e42d-4d16-ed51-0482a103a1cb",
    "scrolled": true
   },
   "outputs": [
    {
     "data": {
      "text/plain": [
       "array([26, 11,  5,  4, 28, 17, 16, 23,  6, 18,  2, 10, 15, 29, 13,  0, 19,\n",
       "       30, 27,  7,  8,  3, 20, 21, 22, 25, 12, 24,  1,  9, 14],\n",
       "      dtype=int64)"
      ]
     },
     "execution_count": 29,
     "metadata": {},
     "output_type": "execute_result"
    }
   ],
   "source": [
    "#After encoding or converting categorical col values into numbers\n",
    "dataset['Platform'].unique()"
   ]
  },
  {
   "cell_type": "code",
   "execution_count": 30,
   "id": "218502fb",
   "metadata": {
    "colab": {
     "base_uri": "https://localhost:8080/"
    },
    "id": "218502fb",
    "outputId": "4c0d14b9-faf8-44e8-b147-6f3030f7d06f"
   },
   "outputs": [
    {
     "data": {
      "text/plain": [
       "array([10,  4,  6,  7,  5,  3,  8,  9,  0,  2,  1, 11], dtype=int64)"
      ]
     },
     "execution_count": 30,
     "metadata": {},
     "output_type": "execute_result"
    }
   ],
   "source": [
    "dataset['Genre'].unique()"
   ]
  },
  {
   "cell_type": "code",
   "execution_count": 31,
   "id": "6fce0717",
   "metadata": {
    "colab": {
     "base_uri": "https://localhost:8080/"
    },
    "id": "6fce0717",
    "outputId": "1f7acc2f-8fa6-4c25-8688-fc2d30e35823"
   },
   "outputs": [
    {
     "data": {
      "text/plain": [
       "array([11075,  9389,  5613, ..., 11169,  5160,  3890], dtype=int64)"
      ]
     },
     "execution_count": 31,
     "metadata": {},
     "output_type": "execute_result"
    }
   ],
   "source": [
    "dataset['Name'].unique()"
   ]
  },
  {
   "cell_type": "code",
   "execution_count": 32,
   "id": "efcf18c3",
   "metadata": {
    "colab": {
     "base_uri": "https://localhost:8080/"
    },
    "id": "efcf18c3",
    "outputId": "b38fb485-cce2-4222-b864-f8906ba553ae"
   },
   "outputs": [
    {
     "data": {
      "text/plain": [
       "array([1020, 1539,  617, ...,  190,  131,  740], dtype=int64)"
      ]
     },
     "execution_count": 32,
     "metadata": {},
     "output_type": "execute_result"
    }
   ],
   "source": [
    "dataset['Developer'].unique()"
   ]
  },
  {
   "cell_type": "code",
   "execution_count": 33,
   "id": "721c7b2b",
   "metadata": {
    "colab": {
     "base_uri": "https://localhost:8080/"
    },
    "id": "721c7b2b",
    "outputId": "3e460d42-9fd7-4c03-9d7a-3324033fbe8d"
   },
   "outputs": [
    {
     "data": {
      "text/plain": [
       "array([1, 5, 7, 2, 4, 0, 3, 6], dtype=int64)"
      ]
     },
     "execution_count": 33,
     "metadata": {},
     "output_type": "execute_result"
    }
   ],
   "source": [
    "dataset['Rating'].unique()"
   ]
  },
  {
   "cell_type": "code",
   "execution_count": 34,
   "id": "9cb5ad33",
   "metadata": {
    "colab": {
     "base_uri": "https://localhost:8080/"
    },
    "id": "9cb5ad33",
    "outputId": "3ea339f3-1cff-4034-b263-4c6bf816569a"
   },
   "outputs": [
    {
     "data": {
      "text/plain": [
       "array([361, 325, 497, 458,  21, 528,  66, 139, 448, 469,  53,   6,  85,\n",
       "       178, 277, 467, 460, 545, 290, 552, 532, 138, 428, 548, 145, 349,\n",
       "       387, 217, 491, 165,  17, 294, 127,  91, 298, 426, 283,  40, 327,\n",
       "       255, 121, 345,  10, 525, 393, 310, 240, 503,  13, 537, 332, 244,\n",
       "       533, 465, 536,  63, 222, 110,  23, 380, 427, 542, 201, 202, 555,\n",
       "       209, 101, 227,  94, 432, 489,  12,  18, 570, 462,   4, 350, 421,\n",
       "        30,  71, 463, 161, 374, 569, 415,  88, 143, 476,  97, 436,  55,\n",
       "       305, 453, 494,  27, 324, 402, 177, 515, 443, 275, 183, 512, 301,\n",
       "       194, 336,  84, 499, 104, 468, 579, 400, 438, 416, 422, 529, 248,\n",
       "       445, 343,  87, 466,   2, 226, 316, 367,  58,  67, 369, 517, 464,\n",
       "       364, 459, 258, 279, 417, 236, 510, 434, 320, 307, 230, 171, 435,\n",
       "       531, 196, 557,  61, 383, 519, 562, 281, 495, 235, 265, 147, 241,\n",
       "        83, 485,  44, 123, 187, 326, 257,  36, 385, 558, 423, 530, 216,\n",
       "        22, 561, 549, 505, 370, 149,  60, 185, 274, 507, 306, 134, 493,\n",
       "       504, 339, 446, 401, 296, 271, 317, 228, 117, 140, 256,  57,  70,\n",
       "         9, 496, 313, 141, 471, 571, 260, 122, 355,  77, 267, 231,  19,\n",
       "       409, 472,  62, 191, 357, 303, 474,  93, 381,  80, 225, 297,  39,\n",
       "        35, 551, 405, 440, 214, 166, 363, 359,  99, 221, 340, 113, 384,\n",
       "       243, 287, 347,  59,  43, 480, 288, 167, 210, 439, 348, 360, 560,\n",
       "       535, 541,  34, 157, 124,  75, 368, 330,  11, 447, 449, 376,  81,\n",
       "       344, 424,  26, 206,  50,  98, 106, 295, 451, 319, 259, 365, 488,\n",
       "       264, 442, 163, 100, 572,  51,  52, 394, 526, 151,  24, 172, 403,\n",
       "       388,  72, 404, 112,  56, 184, 411,  38, 484, 483, 544, 539, 353,\n",
       "       556, 540, 312, 114, 182, 508, 132,  20,  78, 193, 392, 563, 237,\n",
       "       482, 461,  37, 154, 224, 520, 129, 437, 218, 473, 233, 506, 524,\n",
       "       173, 130, 454, 293, 203, 521, 111, 105, 170, 118, 441, 338, 487,\n",
       "       346,  69, 119, 234, 511, 180, 116, 373, 372, 189, 559, 452, 534,\n",
       "       410, 492, 382,  74, 429,   7, 212, 578,  86, 323, 389,  82, 322,\n",
       "       186,  64, 523, 146,  49, 249,  48, 238, 396, 153, 580, 207, 107,\n",
       "       213, 220, 362, 378, 450,  16, 335, 245, 160, 328, 199,  28, 289,\n",
       "       553, 253, 342, 200,  31, 318, 479, 142, 152, 115, 137,  54,  41,\n",
       "       513, 215, 514,  32, 431, 314, 164, 188, 242,   0, 208, 386, 103,\n",
       "       575,  47, 136, 567,  46, 211, 397, 204, 126, 102, 266, 554, 280,\n",
       "        14,   1,  90,  42, 300, 150, 414, 395, 509, 501, 292, 538, 334,\n",
       "       565, 131, 351, 412, 315, 500, 308, 518,  95, 329, 408, 433, 477,\n",
       "       406, 278, 337, 516, 282,  89, 159, 108,  29, 455, 246, 155, 457,\n",
       "       546, 568, 232, 254, 291,   3, 190, 269, 375, 309, 158, 192, 413,\n",
       "       156,  68,  65, 299, 169, 168, 223, 577, 261, 268,  15, 109, 252,\n",
       "         5, 263, 573, 490, 262, 418, 456, 144, 174, 478, 219, 481, 276,\n",
       "       576, 358,  79, 125, 371, 522, 175, 566, 475, 284, 390, 272, 285,\n",
       "       176,   8, 273, 331, 205, 135, 179, 564, 407, 543,  73, 574, 354,\n",
       "       148, 419, 162, 398, 302, 128,  92, 470,  25, 239, 270, 502, 304,\n",
       "       181, 356, 333, 120, 229, 547, 444, 430, 198,  33, 197, 341, 550,\n",
       "       486, 420, 286, 321, 311, 195, 250, 251,  76, 133, 366, 352, 399,\n",
       "       391, 379,  45, 377,  96, 527, 498, 247, 425], dtype=int64)"
      ]
     },
     "execution_count": 34,
     "metadata": {},
     "output_type": "execute_result"
    }
   ],
   "source": [
    "dataset['Publisher'].unique()"
   ]
  },
  {
   "cell_type": "code",
   "execution_count": 35,
   "id": "-cLbrl7RVwVa",
   "metadata": {
    "id": "-cLbrl7RVwVa"
   },
   "outputs": [],
   "source": [
    "dataset = dataset.drop(['Name'], axis=1)"
   ]
  },
  {
   "cell_type": "markdown",
   "id": "29d508e5",
   "metadata": {
    "id": "29d508e5"
   },
   "source": [
    "## Sales Prediction Model\n",
    "\n",
    "•\tWe are going to select a regression algorithms and train models to predict global sales.\n",
    "\n",
    "•\tThen perform feature selection or engineering based on insights from EDA.\n",
    "\n",
    "•\tAnd evaluate model performance using relevant metrics and compare different algorithms\n",
    "\n",
    "Here are the step we are taking-->\n",
    "   First we will spearate the target variable and feature columns in two different dataframe, then will check the shape of the dataset for validation purpose.\n",
    "   \n",
    "  Secondly we will split dataset into train and test dataset.\n",
    "  \n",
    "  Third we will do scaling on train dataset."
   ]
  },
  {
   "cell_type": "code",
   "execution_count": 36,
   "id": "60e21702",
   "metadata": {
    "id": "60e21702"
   },
   "outputs": [],
   "source": [
    "# Separate the target and feature column in X and y variable\n",
    "\n",
    "target = 'Global_Sales'\n",
    "\n",
    "# X will be the features\n",
    "X = dataset.drop(target,axis=1)\n",
    "\n",
    "#y will be the target variable\n",
    "y = dataset[target]"
   ]
  },
  {
   "cell_type": "code",
   "execution_count": 37,
   "id": "3f79bf50",
   "metadata": {
    "colab": {
     "base_uri": "https://localhost:8080/"
    },
    "id": "3f79bf50",
    "outputId": "254a9e1f-d085-4114-e0a4-8657d09c8ec4",
    "scrolled": true
   },
   "outputs": [
    {
     "name": "stdout",
     "output_type": "stream",
     "text": [
      "<class 'pandas.core.frame.DataFrame'>\n",
      "Index: 16717 entries, 0 to 16718\n",
      "Data columns (total 14 columns):\n",
      " #   Column           Non-Null Count  Dtype  \n",
      "---  ------           --------------  -----  \n",
      " 0   Platform         16717 non-null  int64  \n",
      " 1   Year_of_Release  16717 non-null  int32  \n",
      " 2   Genre            16717 non-null  int64  \n",
      " 3   Publisher        16717 non-null  int64  \n",
      " 4   NA_Sales         16717 non-null  float64\n",
      " 5   EU_Sales         16717 non-null  float64\n",
      " 6   JP_Sales         16717 non-null  float64\n",
      " 7   Other_Sales      16717 non-null  float64\n",
      " 8   Critic_Score     16717 non-null  float64\n",
      " 9   Critic_Count     16717 non-null  float64\n",
      " 10  User_Score       16717 non-null  float64\n",
      " 11  User_Count       16717 non-null  float64\n",
      " 12  Developer        16717 non-null  int64  \n",
      " 13  Rating           16717 non-null  int64  \n",
      "dtypes: float64(8), int32(1), int64(5)\n",
      "memory usage: 1.8 MB\n"
     ]
    }
   ],
   "source": [
    "X.info()"
   ]
  },
  {
   "cell_type": "code",
   "execution_count": 38,
   "id": "9b5b6f98",
   "metadata": {
    "colab": {
     "base_uri": "https://localhost:8080/"
    },
    "id": "9b5b6f98",
    "outputId": "e9ef2290-8d93-4bd7-c0f6-94a62074d862"
   },
   "outputs": [
    {
     "data": {
      "text/plain": [
       "0        82.53\n",
       "1        40.24\n",
       "2        35.52\n",
       "3        32.77\n",
       "4        31.37\n",
       "         ...  \n",
       "16714     0.01\n",
       "16715     0.01\n",
       "16716     0.01\n",
       "16717     0.01\n",
       "16718     0.01\n",
       "Name: Global_Sales, Length: 16717, dtype: float64"
      ]
     },
     "execution_count": 38,
     "metadata": {},
     "output_type": "execute_result"
    }
   ],
   "source": [
    "y"
   ]
  },
  {
   "cell_type": "code",
   "execution_count": 39,
   "id": "1d75cb5f",
   "metadata": {
    "colab": {
     "base_uri": "https://localhost:8080/"
    },
    "id": "1d75cb5f",
    "outputId": "8d2a1133-d22e-47ea-d6c6-8f79929239c7"
   },
   "outputs": [
    {
     "data": {
      "text/plain": [
       "((16717, 14), (16717,))"
      ]
     },
     "execution_count": 39,
     "metadata": {},
     "output_type": "execute_result"
    }
   ],
   "source": [
    "# Check the shape of X and y variable\n",
    "X.shape, y.shape"
   ]
  },
  {
   "cell_type": "code",
   "execution_count": 40,
   "id": "a2c4cfe9",
   "metadata": {
    "id": "a2c4cfe9"
   },
   "outputs": [],
   "source": [
    "# Lets reshape the y variable\n",
    "y = y.values.reshape(-1,1)"
   ]
  },
  {
   "cell_type": "code",
   "execution_count": 41,
   "id": "5d1246f1",
   "metadata": {
    "colab": {
     "base_uri": "https://localhost:8080/"
    },
    "id": "5d1246f1",
    "outputId": "28831fdc-966e-4a55-bbfa-4ef56aeaa9ef"
   },
   "outputs": [
    {
     "data": {
      "text/plain": [
       "((16717, 14), (16717, 1))"
      ]
     },
     "execution_count": 41,
     "metadata": {},
     "output_type": "execute_result"
    }
   ],
   "source": [
    "# Then check the shape of X and y variable again\n",
    "X.shape, y.shape"
   ]
  },
  {
   "cell_type": "markdown",
   "id": "fc7e49f0",
   "metadata": {
    "id": "fc7e49f0"
   },
   "source": [
    "Next we will split the dataset in training and testing data. We are spliting our dataset into 80/20 percentage where 80% dataset will go into the training part and the remaining 20% goes into testing part."
   ]
  },
  {
   "cell_type": "code",
   "execution_count": 42,
   "id": "bf6ae2c0",
   "metadata": {
    "id": "bf6ae2c0"
   },
   "outputs": [],
   "source": [
    "# split the X and y into X_train, X_test, y_train, y_test variables with 80-20% split.\n",
    "from sklearn.model_selection import train_test_split\n",
    "\n",
    "X_train, X_test, y_train, y_test = train_test_split(X, y, test_size=0.2, random_state=42)"
   ]
  },
  {
   "cell_type": "code",
   "execution_count": 43,
   "id": "7af135c9",
   "metadata": {
    "colab": {
     "base_uri": "https://localhost:8080/"
    },
    "id": "7af135c9",
    "outputId": "50956967-d038-4dbd-88c5-649d7335771d"
   },
   "outputs": [
    {
     "data": {
      "text/plain": [
       "((13373, 14), (3344, 14), (13373, 1), (3344, 1))"
      ]
     },
     "execution_count": 43,
     "metadata": {},
     "output_type": "execute_result"
    }
   ],
   "source": [
    "# check shape of the splitted variables\n",
    "X_train.shape, X_test.shape, y_train.shape, y_test.shape"
   ]
  },
  {
   "cell_type": "markdown",
   "id": "3fe14ee2",
   "metadata": {
    "id": "3fe14ee2"
   },
   "source": [
    "Train test split technique was used to estimate the performance of the machine learning algorithms which are used to make predictions on data not used to train the model.It is a fast and easy procedure to perform, the results of which allows you to compare the performance of machine learning algorithms for your predictive modeling problem.\n",
    "\n",
    "Next we will train our model on the basis of our training and testing data."
   ]
  },
  {
   "cell_type": "markdown",
   "id": "0e1832c0",
   "metadata": {
    "id": "0e1832c0"
   },
   "source": [
    "## Model Training (Regressor Selection )"
   ]
  },
  {
   "cell_type": "markdown",
   "id": "aa02d419",
   "metadata": {
    "id": "aa02d419"
   },
   "source": [
    "Algorithms we are using in this step are:\n",
    "\n",
    "1.Linear Regression.\n",
    "\n",
    "2.Lasso Regression.\n",
    "\n",
    "3.Random Forest Regresser."
   ]
  },
  {
   "cell_type": "code",
   "execution_count": 44,
   "id": "0fd0f3c6",
   "metadata": {
    "id": "0fd0f3c6"
   },
   "outputs": [],
   "source": [
    "from sklearn.model_selection import KFold\n",
    "\n",
    "# we will define kfold with 10 split\n",
    "cv = KFold(n_splits=10, shuffle=True, random_state=42)"
   ]
  },
  {
   "cell_type": "markdown",
   "id": "6cdea785",
   "metadata": {
    "id": "6cdea785"
   },
   "source": [
    "The goal of cross-validation is to test the model's ability of predicting new data that was not used in estimating it, in order to flag problems like overfitting or selection bias and to give an insight on how the model will generalize to an independent dataset."
   ]
  },
  {
   "cell_type": "markdown",
   "id": "cf7303a9",
   "metadata": {
    "id": "cf7303a9"
   },
   "source": [
    "## 1. Linear Regression\n",
    "Linear regression is a statistical method used to model the relationship between a dependent variable (also known as the response or target variable) and one or more independent variables (also known as predictors or features). It assumes a linear relationship between the independent variables and the dependent variable, hence the name \"linear\" regression.\n"
   ]
  },
  {
   "cell_type": "code",
   "execution_count": 45,
   "id": "ce40f803",
   "metadata": {
    "colab": {
     "base_uri": "https://localhost:8080/"
    },
    "id": "ce40f803",
    "outputId": "e64ce178-dc04-41a6-e3c9-c3fd85e45d32"
   },
   "outputs": [
    {
     "data": {
      "text/plain": [
       "array([2006, 1985, 2008, 2009, 1996, 1989, 1984, 2005, 1999, 2007, 2010,\n",
       "       2013, 2004, 1990, 1988, 2002, 2001, 2011, 1998, 2015, 2012, 2014,\n",
       "       1992, 1997, 1993, 1994, 1982, 2016, 2003, 1986, 2000, 1995, 1991,\n",
       "       1981, 1987, 1980, 1983, 2020, 2017])"
      ]
     },
     "execution_count": 45,
     "metadata": {},
     "output_type": "execute_result"
    }
   ],
   "source": [
    "dataset['Year_of_Release'].unique()"
   ]
  },
  {
   "cell_type": "code",
   "execution_count": 46,
   "id": "24be6db6",
   "metadata": {
    "colab": {
     "base_uri": "https://localhost:8080/"
    },
    "id": "24be6db6",
    "outputId": "4663df80-c008-40ef-da02-28fa04af88ca"
   },
   "outputs": [
    {
     "name": "stdout",
     "output_type": "stream",
     "text": [
      "Platform             int64\n",
      "Year_of_Release      int32\n",
      "Genre                int64\n",
      "Publisher            int64\n",
      "NA_Sales           float64\n",
      "EU_Sales           float64\n",
      "JP_Sales           float64\n",
      "Other_Sales        float64\n",
      "Global_Sales       float64\n",
      "Critic_Score       float64\n",
      "Critic_Count       float64\n",
      "User_Score         float64\n",
      "User_Count         float64\n",
      "Developer            int64\n",
      "Rating               int64\n",
      "dtype: object\n"
     ]
    }
   ],
   "source": [
    "# Check Data Types\n",
    "print(dataset.dtypes)"
   ]
  },
  {
   "cell_type": "code",
   "execution_count": 47,
   "id": "7826680f",
   "metadata": {
    "colab": {
     "base_uri": "https://localhost:8080/"
    },
    "id": "7826680f",
    "outputId": "29a3a366-5fb7-493f-ab34-b5a5bba43441"
   },
   "outputs": [
    {
     "data": {
      "text/plain": [
       "0.9999933948089227"
      ]
     },
     "execution_count": 47,
     "metadata": {},
     "output_type": "execute_result"
    }
   ],
   "source": [
    "#Using Linear Regression\n",
    "from sklearn.linear_model import LinearRegression\n",
    "\n",
    "\n",
    "model = LinearRegression()\n",
    "model.fit(X_train, y_train)\n",
    "model.score(X_test, y_test)"
   ]
  },
  {
   "cell_type": "code",
   "execution_count": 48,
   "id": "742df150",
   "metadata": {
    "colab": {
     "base_uri": "https://localhost:8080/"
    },
    "id": "742df150",
    "outputId": "4a106151-f424-4f4e-882c-2c3f67c0e68c",
    "scrolled": true
   },
   "outputs": [
    {
     "data": {
      "text/plain": [
       "0.9999861986545688"
      ]
     },
     "execution_count": 48,
     "metadata": {},
     "output_type": "execute_result"
    }
   ],
   "source": [
    "#Accuracy check of trainig data\n",
    "from sklearn.metrics import r2_score\n",
    "\n",
    "#Get R2 score\n",
    "model.score(X_train, y_train)"
   ]
  },
  {
   "cell_type": "code",
   "execution_count": 49,
   "id": "59280a95",
   "metadata": {
    "colab": {
     "base_uri": "https://localhost:8080/"
    },
    "id": "59280a95",
    "outputId": "d82a0bbd-bef3-45a3-fd6c-b887b1c7a612"
   },
   "outputs": [
    {
     "data": {
      "text/plain": [
       "0.9999933948089227"
      ]
     },
     "execution_count": 49,
     "metadata": {},
     "output_type": "execute_result"
    }
   ],
   "source": [
    "#Accuracy of test data\n",
    "model.score(X_test, y_test)"
   ]
  },
  {
   "cell_type": "code",
   "execution_count": 50,
   "id": "c4486c9c",
   "metadata": {
    "colab": {
     "base_uri": "https://localhost:8080/"
    },
    "id": "c4486c9c",
    "outputId": "02ca773a-b8e4-426c-86d8-ed55e0084e85"
   },
   "outputs": [
    {
     "data": {
      "text/plain": [
       "array([0.00514676, 0.00515352, 0.00509395, 0.00517491, 0.00530942,\n",
       "       0.00538541, 0.00524027, 0.00500705, 0.00537372, 0.00521237])"
      ]
     },
     "execution_count": 50,
     "metadata": {},
     "output_type": "execute_result"
    }
   ],
   "source": [
    "# Then we have to get the kfold values\n",
    "from sklearn.model_selection import cross_val_score\n",
    "\n",
    "lg_scores = -1 * cross_val_score(model,\n",
    "                                 X_train,\n",
    "                                 y_train,\n",
    "                                 cv=cv,\n",
    "                                 scoring='neg_root_mean_squared_error')\n",
    "lg_scores"
   ]
  },
  {
   "cell_type": "code",
   "execution_count": 51,
   "id": "fa875146",
   "metadata": {
    "colab": {
     "base_uri": "https://localhost:8080/"
    },
    "id": "fa875146",
    "outputId": "c5905410-c5e2-42da-895c-d2df70dfa26c"
   },
   "outputs": [
    {
     "data": {
      "text/plain": [
       "0.00520973667231091"
      ]
     },
     "execution_count": 51,
     "metadata": {},
     "output_type": "execute_result"
    }
   ],
   "source": [
    "# Mean of the train kfold scores\n",
    "lg_score_train = np.mean(lg_scores)\n",
    "lg_score_train"
   ]
  },
  {
   "cell_type": "markdown",
   "id": "2a644cfe",
   "metadata": {
    "id": "2a644cfe"
   },
   "source": [
    "### Prediction\n",
    "we will perform prediction on the dataset."
   ]
  },
  {
   "cell_type": "code",
   "execution_count": 52,
   "id": "538b2b57",
   "metadata": {
    "id": "538b2b57"
   },
   "outputs": [],
   "source": [
    "# Predict the values on X_test_scaled dataset\n",
    "y_predicted = model.predict(X_test)"
   ]
  },
  {
   "cell_type": "markdown",
   "id": "fb23e042",
   "metadata": {
    "id": "fb23e042"
   },
   "source": [
    "Then we will evaluate their performance using metrics such as accuracy, precision, recall, and F1-score"
   ]
  },
  {
   "cell_type": "code",
   "execution_count": 53,
   "id": "927f5afe",
   "metadata": {
    "colab": {
     "base_uri": "https://localhost:8080/"
    },
    "id": "927f5afe",
    "outputId": "05459777-2bfa-4159-8313-f800f70be1c3"
   },
   "outputs": [
    {
     "name": "stdout",
     "output_type": "stream",
     "text": [
      "The model in use is Linear Regression\n",
      "The accuracy is: 99.99933948089227\n"
     ]
    }
   ],
   "source": [
    "from sklearn.metrics import f1_score, accuracy_score, precision_score,recall_score\n",
    "\n",
    "print(\"The model in use is Linear Regression\")\n",
    "rg = r2_score(y_test,y_predicted)*100\n",
    "print(\"The accuracy is: {}\".format(rg))"
   ]
  },
  {
   "cell_type": "markdown",
   "id": "69e862aa",
   "metadata": {
    "id": "69e862aa"
   },
   "source": [
    "## 2. Lasso Regression\n",
    "Lasso Regression, short for Least Absolute Shrinkage and Selection Operator Regression, is a type of linear regression that adds a penalty term to the ordinary least squares (OLS) objective function. This penalty term is the absolute sum of the coefficients multiplied by a constant alpha (λ).\n",
    "\n",
    "Mathematically, the objective function of Lasso Regression can be expressed as:\n",
    "\n",
    "minimize: RSS + λ * Σ|βi|"
   ]
  },
  {
   "cell_type": "code",
   "execution_count": 54,
   "id": "7381e6ce",
   "metadata": {
    "id": "7381e6ce"
   },
   "outputs": [],
   "source": [
    "#Using the Lasso Regression\n",
    "from sklearn import linear_model\n",
    "clf = linear_model.Lasso(alpha=0.1)"
   ]
  },
  {
   "cell_type": "code",
   "execution_count": 55,
   "id": "90015a62",
   "metadata": {
    "colab": {
     "base_uri": "https://localhost:8080/",
     "height": 74
    },
    "id": "90015a62",
    "outputId": "30b3f4a6-4636-4ce0-f18f-4c1e9f50678d"
   },
   "outputs": [
    {
     "data": {
      "text/html": [
       "<style>#sk-container-id-1 {color: black;background-color: white;}#sk-container-id-1 pre{padding: 0;}#sk-container-id-1 div.sk-toggleable {background-color: white;}#sk-container-id-1 label.sk-toggleable__label {cursor: pointer;display: block;width: 100%;margin-bottom: 0;padding: 0.3em;box-sizing: border-box;text-align: center;}#sk-container-id-1 label.sk-toggleable__label-arrow:before {content: \"▸\";float: left;margin-right: 0.25em;color: #696969;}#sk-container-id-1 label.sk-toggleable__label-arrow:hover:before {color: black;}#sk-container-id-1 div.sk-estimator:hover label.sk-toggleable__label-arrow:before {color: black;}#sk-container-id-1 div.sk-toggleable__content {max-height: 0;max-width: 0;overflow: hidden;text-align: left;background-color: #f0f8ff;}#sk-container-id-1 div.sk-toggleable__content pre {margin: 0.2em;color: black;border-radius: 0.25em;background-color: #f0f8ff;}#sk-container-id-1 input.sk-toggleable__control:checked~div.sk-toggleable__content {max-height: 200px;max-width: 100%;overflow: auto;}#sk-container-id-1 input.sk-toggleable__control:checked~label.sk-toggleable__label-arrow:before {content: \"▾\";}#sk-container-id-1 div.sk-estimator input.sk-toggleable__control:checked~label.sk-toggleable__label {background-color: #d4ebff;}#sk-container-id-1 div.sk-label input.sk-toggleable__control:checked~label.sk-toggleable__label {background-color: #d4ebff;}#sk-container-id-1 input.sk-hidden--visually {border: 0;clip: rect(1px 1px 1px 1px);clip: rect(1px, 1px, 1px, 1px);height: 1px;margin: -1px;overflow: hidden;padding: 0;position: absolute;width: 1px;}#sk-container-id-1 div.sk-estimator {font-family: monospace;background-color: #f0f8ff;border: 1px dotted black;border-radius: 0.25em;box-sizing: border-box;margin-bottom: 0.5em;}#sk-container-id-1 div.sk-estimator:hover {background-color: #d4ebff;}#sk-container-id-1 div.sk-parallel-item::after {content: \"\";width: 100%;border-bottom: 1px solid gray;flex-grow: 1;}#sk-container-id-1 div.sk-label:hover label.sk-toggleable__label {background-color: #d4ebff;}#sk-container-id-1 div.sk-serial::before {content: \"\";position: absolute;border-left: 1px solid gray;box-sizing: border-box;top: 0;bottom: 0;left: 50%;z-index: 0;}#sk-container-id-1 div.sk-serial {display: flex;flex-direction: column;align-items: center;background-color: white;padding-right: 0.2em;padding-left: 0.2em;position: relative;}#sk-container-id-1 div.sk-item {position: relative;z-index: 1;}#sk-container-id-1 div.sk-parallel {display: flex;align-items: stretch;justify-content: center;background-color: white;position: relative;}#sk-container-id-1 div.sk-item::before, #sk-container-id-1 div.sk-parallel-item::before {content: \"\";position: absolute;border-left: 1px solid gray;box-sizing: border-box;top: 0;bottom: 0;left: 50%;z-index: -1;}#sk-container-id-1 div.sk-parallel-item {display: flex;flex-direction: column;z-index: 1;position: relative;background-color: white;}#sk-container-id-1 div.sk-parallel-item:first-child::after {align-self: flex-end;width: 50%;}#sk-container-id-1 div.sk-parallel-item:last-child::after {align-self: flex-start;width: 50%;}#sk-container-id-1 div.sk-parallel-item:only-child::after {width: 0;}#sk-container-id-1 div.sk-dashed-wrapped {border: 1px dashed gray;margin: 0 0.4em 0.5em 0.4em;box-sizing: border-box;padding-bottom: 0.4em;background-color: white;}#sk-container-id-1 div.sk-label label {font-family: monospace;font-weight: bold;display: inline-block;line-height: 1.2em;}#sk-container-id-1 div.sk-label-container {text-align: center;}#sk-container-id-1 div.sk-container {/* jupyter's `normalize.less` sets `[hidden] { display: none; }` but bootstrap.min.css set `[hidden] { display: none !important; }` so we also need the `!important` here to be able to override the default hidden behavior on the sphinx rendered scikit-learn.org. See: https://github.com/scikit-learn/scikit-learn/issues/21755 */display: inline-block !important;position: relative;}#sk-container-id-1 div.sk-text-repr-fallback {display: none;}</style><div id=\"sk-container-id-1\" class=\"sk-top-container\"><div class=\"sk-text-repr-fallback\"><pre>Lasso(alpha=0.1)</pre><b>In a Jupyter environment, please rerun this cell to show the HTML representation or trust the notebook. <br />On GitHub, the HTML representation is unable to render, please try loading this page with nbviewer.org.</b></div><div class=\"sk-container\" hidden><div class=\"sk-item\"><div class=\"sk-estimator sk-toggleable\"><input class=\"sk-toggleable__control sk-hidden--visually\" id=\"sk-estimator-id-1\" type=\"checkbox\" checked><label for=\"sk-estimator-id-1\" class=\"sk-toggleable__label sk-toggleable__label-arrow\">Lasso</label><div class=\"sk-toggleable__content\"><pre>Lasso(alpha=0.1)</pre></div></div></div></div></div>"
      ],
      "text/plain": [
       "Lasso(alpha=0.1)"
      ]
     },
     "execution_count": 55,
     "metadata": {},
     "output_type": "execute_result"
    }
   ],
   "source": [
    "#looking for training data\n",
    "clf.fit(X_train,y_train)"
   ]
  },
  {
   "cell_type": "code",
   "execution_count": 56,
   "id": "6485c177",
   "metadata": {
    "colab": {
     "base_uri": "https://localhost:8080/"
    },
    "id": "6485c177",
    "outputId": "7455ab6c-5505-493f-b11d-dc5ff0b249df"
   },
   "outputs": [
    {
     "data": {
      "text/plain": [
       "0.9271293847537001"
      ]
     },
     "execution_count": 56,
     "metadata": {},
     "output_type": "execute_result"
    }
   ],
   "source": [
    "#Accuracy check for the training data\n",
    "clf.score(X_train,y_train)"
   ]
  },
  {
   "cell_type": "code",
   "execution_count": 57,
   "id": "98f6050d",
   "metadata": {
    "id": "98f6050d"
   },
   "outputs": [],
   "source": [
    "y_predicted1 = clf.predict(X_test)"
   ]
  },
  {
   "cell_type": "code",
   "execution_count": 58,
   "id": "3cd3c2ab",
   "metadata": {
    "colab": {
     "base_uri": "https://localhost:8080/"
    },
    "id": "3cd3c2ab",
    "outputId": "553ec02e-77f1-43cc-aca8-87090164ffda"
   },
   "outputs": [
    {
     "data": {
      "text/plain": [
       "95.78656825965871"
      ]
     },
     "execution_count": 58,
     "metadata": {},
     "output_type": "execute_result"
    }
   ],
   "source": [
    "#Accuracy check of the test data\n",
    "lg = r2_score(y_test,y_predicted1)*100\n",
    "lg"
   ]
  },
  {
   "cell_type": "code",
   "execution_count": 59,
   "id": "9dcab362",
   "metadata": {
    "colab": {
     "base_uri": "https://localhost:8080/"
    },
    "id": "9dcab362",
    "outputId": "d347baeb-959e-423c-f0a2-c7b759d2accb"
   },
   "outputs": [
    {
     "data": {
      "text/plain": [
       "array([0.29814642, 0.51853526, 0.43457191, 0.43999866, 0.37813664,\n",
       "       0.23497508, 0.38259041, 0.37839371, 0.32069777, 0.40874434])"
      ]
     },
     "execution_count": 59,
     "metadata": {},
     "output_type": "execute_result"
    }
   ],
   "source": [
    "#Get the kfold values\n",
    "Nn_scores = -1 * cross_val_score(clf,\n",
    "                                    X_train,\n",
    "                                    y_train,\n",
    "                                    cv=cv,\n",
    "                                    scoring='neg_root_mean_squared_error')\n",
    "Nn_scores"
   ]
  },
  {
   "cell_type": "code",
   "execution_count": 60,
   "id": "d3f6d0ad",
   "metadata": {
    "colab": {
     "base_uri": "https://localhost:8080/"
    },
    "id": "d3f6d0ad",
    "outputId": "78ae84f3-f98e-4d3b-c8d9-f5e8fb83680b"
   },
   "outputs": [
    {
     "data": {
      "text/plain": [
       "0.37947901991274624"
      ]
     },
     "execution_count": 60,
     "metadata": {},
     "output_type": "execute_result"
    }
   ],
   "source": [
    "# Mean of the train kfold scores\n",
    "Nn_score_train = np.mean(Nn_scores)\n",
    "Nn_score_train"
   ]
  },
  {
   "cell_type": "code",
   "execution_count": 61,
   "id": "167d1aec",
   "metadata": {
    "colab": {
     "base_uri": "https://localhost:8080/"
    },
    "id": "167d1aec",
    "outputId": "25afc566-bfc6-4881-fb91-2c208e515444"
   },
   "outputs": [
    {
     "name": "stdout",
     "output_type": "stream",
     "text": [
      "The model used is Lasso Regression\n",
      "The accuracy is: 99.99933948089227\n"
     ]
    }
   ],
   "source": [
    "print(\"The model used is Lasso Regression\")\n",
    "lg = r2_score(y_test,y_predicted)*100\n",
    "print(\"The accuracy is: {}\".format(lg))"
   ]
  },
  {
   "cell_type": "markdown",
   "id": "8fca4df4",
   "metadata": {
    "id": "8fca4df4"
   },
   "source": [
    "## 3. Random Forest Regressor\n",
    "\n",
    "Random Forest Regressor is a machine learning algorithm used for regression tasks, which involves predicting a continuous numerical value. It belongs to the ensemble learning methods and is based on the Random Forest algorithm, which is an ensemble of decision trees."
   ]
  },
  {
   "cell_type": "code",
   "execution_count": 62,
   "id": "cd01f2aa",
   "metadata": {
    "colab": {
     "base_uri": "https://localhost:8080/",
     "height": 129
    },
    "id": "cd01f2aa",
    "outputId": "ddacca75-0eda-428f-bfd2-6a17240a8f58"
   },
   "outputs": [
    {
     "name": "stderr",
     "output_type": "stream",
     "text": [
      "C:\\Users\\Owner\\AppData\\Local\\Temp\\ipykernel_15216\\1906769137.py:4: DataConversionWarning: A column-vector y was passed when a 1d array was expected. Please change the shape of y to (n_samples,), for example using ravel().\n",
      "  regr.fit(X_train, y_train)\n"
     ]
    },
    {
     "data": {
      "text/html": [
       "<style>#sk-container-id-2 {color: black;background-color: white;}#sk-container-id-2 pre{padding: 0;}#sk-container-id-2 div.sk-toggleable {background-color: white;}#sk-container-id-2 label.sk-toggleable__label {cursor: pointer;display: block;width: 100%;margin-bottom: 0;padding: 0.3em;box-sizing: border-box;text-align: center;}#sk-container-id-2 label.sk-toggleable__label-arrow:before {content: \"▸\";float: left;margin-right: 0.25em;color: #696969;}#sk-container-id-2 label.sk-toggleable__label-arrow:hover:before {color: black;}#sk-container-id-2 div.sk-estimator:hover label.sk-toggleable__label-arrow:before {color: black;}#sk-container-id-2 div.sk-toggleable__content {max-height: 0;max-width: 0;overflow: hidden;text-align: left;background-color: #f0f8ff;}#sk-container-id-2 div.sk-toggleable__content pre {margin: 0.2em;color: black;border-radius: 0.25em;background-color: #f0f8ff;}#sk-container-id-2 input.sk-toggleable__control:checked~div.sk-toggleable__content {max-height: 200px;max-width: 100%;overflow: auto;}#sk-container-id-2 input.sk-toggleable__control:checked~label.sk-toggleable__label-arrow:before {content: \"▾\";}#sk-container-id-2 div.sk-estimator input.sk-toggleable__control:checked~label.sk-toggleable__label {background-color: #d4ebff;}#sk-container-id-2 div.sk-label input.sk-toggleable__control:checked~label.sk-toggleable__label {background-color: #d4ebff;}#sk-container-id-2 input.sk-hidden--visually {border: 0;clip: rect(1px 1px 1px 1px);clip: rect(1px, 1px, 1px, 1px);height: 1px;margin: -1px;overflow: hidden;padding: 0;position: absolute;width: 1px;}#sk-container-id-2 div.sk-estimator {font-family: monospace;background-color: #f0f8ff;border: 1px dotted black;border-radius: 0.25em;box-sizing: border-box;margin-bottom: 0.5em;}#sk-container-id-2 div.sk-estimator:hover {background-color: #d4ebff;}#sk-container-id-2 div.sk-parallel-item::after {content: \"\";width: 100%;border-bottom: 1px solid gray;flex-grow: 1;}#sk-container-id-2 div.sk-label:hover label.sk-toggleable__label {background-color: #d4ebff;}#sk-container-id-2 div.sk-serial::before {content: \"\";position: absolute;border-left: 1px solid gray;box-sizing: border-box;top: 0;bottom: 0;left: 50%;z-index: 0;}#sk-container-id-2 div.sk-serial {display: flex;flex-direction: column;align-items: center;background-color: white;padding-right: 0.2em;padding-left: 0.2em;position: relative;}#sk-container-id-2 div.sk-item {position: relative;z-index: 1;}#sk-container-id-2 div.sk-parallel {display: flex;align-items: stretch;justify-content: center;background-color: white;position: relative;}#sk-container-id-2 div.sk-item::before, #sk-container-id-2 div.sk-parallel-item::before {content: \"\";position: absolute;border-left: 1px solid gray;box-sizing: border-box;top: 0;bottom: 0;left: 50%;z-index: -1;}#sk-container-id-2 div.sk-parallel-item {display: flex;flex-direction: column;z-index: 1;position: relative;background-color: white;}#sk-container-id-2 div.sk-parallel-item:first-child::after {align-self: flex-end;width: 50%;}#sk-container-id-2 div.sk-parallel-item:last-child::after {align-self: flex-start;width: 50%;}#sk-container-id-2 div.sk-parallel-item:only-child::after {width: 0;}#sk-container-id-2 div.sk-dashed-wrapped {border: 1px dashed gray;margin: 0 0.4em 0.5em 0.4em;box-sizing: border-box;padding-bottom: 0.4em;background-color: white;}#sk-container-id-2 div.sk-label label {font-family: monospace;font-weight: bold;display: inline-block;line-height: 1.2em;}#sk-container-id-2 div.sk-label-container {text-align: center;}#sk-container-id-2 div.sk-container {/* jupyter's `normalize.less` sets `[hidden] { display: none; }` but bootstrap.min.css set `[hidden] { display: none !important; }` so we also need the `!important` here to be able to override the default hidden behavior on the sphinx rendered scikit-learn.org. See: https://github.com/scikit-learn/scikit-learn/issues/21755 */display: inline-block !important;position: relative;}#sk-container-id-2 div.sk-text-repr-fallback {display: none;}</style><div id=\"sk-container-id-2\" class=\"sk-top-container\"><div class=\"sk-text-repr-fallback\"><pre>RandomForestRegressor(max_depth=2, random_state=0)</pre><b>In a Jupyter environment, please rerun this cell to show the HTML representation or trust the notebook. <br />On GitHub, the HTML representation is unable to render, please try loading this page with nbviewer.org.</b></div><div class=\"sk-container\" hidden><div class=\"sk-item\"><div class=\"sk-estimator sk-toggleable\"><input class=\"sk-toggleable__control sk-hidden--visually\" id=\"sk-estimator-id-2\" type=\"checkbox\" checked><label for=\"sk-estimator-id-2\" class=\"sk-toggleable__label sk-toggleable__label-arrow\">RandomForestRegressor</label><div class=\"sk-toggleable__content\"><pre>RandomForestRegressor(max_depth=2, random_state=0)</pre></div></div></div></div></div>"
      ],
      "text/plain": [
       "RandomForestRegressor(max_depth=2, random_state=0)"
      ]
     },
     "execution_count": 62,
     "metadata": {},
     "output_type": "execute_result"
    }
   ],
   "source": [
    "#Using Ridge Regression\n",
    "from sklearn.ensemble import RandomForestRegressor\n",
    "regr = RandomForestRegressor(max_depth=2, random_state=0)\n",
    "regr.fit(X_train, y_train)"
   ]
  },
  {
   "cell_type": "code",
   "execution_count": 63,
   "id": "0fb61b60",
   "metadata": {
    "colab": {
     "base_uri": "https://localhost:8080/"
    },
    "id": "0fb61b60",
    "outputId": "436f537d-b55c-4599-ca6c-1cc403246a26"
   },
   "outputs": [
    {
     "data": {
      "text/plain": [
       "0.8525529519119347"
      ]
     },
     "execution_count": 63,
     "metadata": {},
     "output_type": "execute_result"
    }
   ],
   "source": [
    "#Accuracy check of trainig data R2 score\n",
    "regr.score(X_train, y_train)"
   ]
  },
  {
   "cell_type": "code",
   "execution_count": 64,
   "id": "dc951522",
   "metadata": {
    "colab": {
     "base_uri": "https://localhost:8080/"
    },
    "id": "dc951522",
    "outputId": "e234d22b-40c0-4bc8-e715-c06ff838522a"
   },
   "outputs": [
    {
     "name": "stderr",
     "output_type": "stream",
     "text": [
      "C:\\Users\\Owner\\anaconda3\\Lib\\site-packages\\sklearn\\model_selection\\_validation.py:686: DataConversionWarning: A column-vector y was passed when a 1d array was expected. Please change the shape of y to (n_samples,), for example using ravel().\n",
      "  estimator.fit(X_train, y_train, **fit_params)\n",
      "C:\\Users\\Owner\\anaconda3\\Lib\\site-packages\\sklearn\\model_selection\\_validation.py:686: DataConversionWarning: A column-vector y was passed when a 1d array was expected. Please change the shape of y to (n_samples,), for example using ravel().\n",
      "  estimator.fit(X_train, y_train, **fit_params)\n",
      "C:\\Users\\Owner\\anaconda3\\Lib\\site-packages\\sklearn\\model_selection\\_validation.py:686: DataConversionWarning: A column-vector y was passed when a 1d array was expected. Please change the shape of y to (n_samples,), for example using ravel().\n",
      "  estimator.fit(X_train, y_train, **fit_params)\n",
      "C:\\Users\\Owner\\anaconda3\\Lib\\site-packages\\sklearn\\model_selection\\_validation.py:686: DataConversionWarning: A column-vector y was passed when a 1d array was expected. Please change the shape of y to (n_samples,), for example using ravel().\n",
      "  estimator.fit(X_train, y_train, **fit_params)\n",
      "C:\\Users\\Owner\\anaconda3\\Lib\\site-packages\\sklearn\\model_selection\\_validation.py:686: DataConversionWarning: A column-vector y was passed when a 1d array was expected. Please change the shape of y to (n_samples,), for example using ravel().\n",
      "  estimator.fit(X_train, y_train, **fit_params)\n",
      "C:\\Users\\Owner\\anaconda3\\Lib\\site-packages\\sklearn\\model_selection\\_validation.py:686: DataConversionWarning: A column-vector y was passed when a 1d array was expected. Please change the shape of y to (n_samples,), for example using ravel().\n",
      "  estimator.fit(X_train, y_train, **fit_params)\n",
      "C:\\Users\\Owner\\anaconda3\\Lib\\site-packages\\sklearn\\model_selection\\_validation.py:686: DataConversionWarning: A column-vector y was passed when a 1d array was expected. Please change the shape of y to (n_samples,), for example using ravel().\n",
      "  estimator.fit(X_train, y_train, **fit_params)\n",
      "C:\\Users\\Owner\\anaconda3\\Lib\\site-packages\\sklearn\\model_selection\\_validation.py:686: DataConversionWarning: A column-vector y was passed when a 1d array was expected. Please change the shape of y to (n_samples,), for example using ravel().\n",
      "  estimator.fit(X_train, y_train, **fit_params)\n",
      "C:\\Users\\Owner\\anaconda3\\Lib\\site-packages\\sklearn\\model_selection\\_validation.py:686: DataConversionWarning: A column-vector y was passed when a 1d array was expected. Please change the shape of y to (n_samples,), for example using ravel().\n",
      "  estimator.fit(X_train, y_train, **fit_params)\n",
      "C:\\Users\\Owner\\anaconda3\\Lib\\site-packages\\sklearn\\model_selection\\_validation.py:686: DataConversionWarning: A column-vector y was passed when a 1d array was expected. Please change the shape of y to (n_samples,), for example using ravel().\n",
      "  estimator.fit(X_train, y_train, **fit_params)\n"
     ]
    },
    {
     "data": {
      "text/plain": [
       "array([0.5225313 , 0.67779939, 0.77273794, 0.59317113, 0.62865814,\n",
       "       0.46751139, 0.52797015, 0.53186865, 0.49734137, 0.52341713])"
      ]
     },
     "execution_count": 64,
     "metadata": {},
     "output_type": "execute_result"
    }
   ],
   "source": [
    "# Get the kfold values\n",
    "Dta_scores = -1 * cross_val_score(regr,\n",
    "                                    X_train,\n",
    "                                    y_train,\n",
    "                                    cv=cv,\n",
    "                                    scoring='neg_root_mean_squared_error')\n",
    "Dta_scores"
   ]
  },
  {
   "cell_type": "code",
   "execution_count": 65,
   "id": "3364de44",
   "metadata": {
    "colab": {
     "base_uri": "https://localhost:8080/"
    },
    "id": "3364de44",
    "outputId": "a54755bd-48b3-4005-e992-a17a028910b6"
   },
   "outputs": [
    {
     "data": {
      "text/plain": [
       "0.5743006598313456"
      ]
     },
     "execution_count": 65,
     "metadata": {},
     "output_type": "execute_result"
    }
   ],
   "source": [
    "# Mean of the train kfold scores\n",
    "Dta_score_train = np.mean(Dta_scores)\n",
    "Dta_score_train"
   ]
  },
  {
   "cell_type": "code",
   "execution_count": 66,
   "id": "7dd2f926",
   "metadata": {
    "id": "7dd2f926",
    "scrolled": true
   },
   "outputs": [],
   "source": [
    "# predict the values on X_test_scaled dataset\n",
    "y_predicted = regr.predict(X_test)"
   ]
  },
  {
   "cell_type": "code",
   "execution_count": 67,
   "id": "eb337121",
   "metadata": {
    "colab": {
     "base_uri": "https://localhost:8080/"
    },
    "id": "eb337121",
    "outputId": "4562cab2-548a-419c-c3ac-2b51f14f556b"
   },
   "outputs": [
    {
     "name": "stdout",
     "output_type": "stream",
     "text": [
      "The model used is Random forest Regressor\n",
      "The accuracy is 68.50465215450794\n"
     ]
    }
   ],
   "source": [
    "from sklearn.metrics import classification_report\n",
    "from sklearn.metrics import f1_score, accuracy_score, precision_score,recall_score\n",
    "from sklearn.metrics import confusion_matrix\n",
    "\n",
    "\n",
    "print(\"The model used is Random forest Regressor\")\n",
    "\n",
    "r_acc = r2_score(y_test, y_predicted)*100\n",
    "print(\"The accuracy is {}\".format(r_acc))"
   ]
  },
  {
   "cell_type": "code",
   "execution_count": 68,
   "id": "df51896a",
   "metadata": {
    "colab": {
     "base_uri": "https://localhost:8080/",
     "height": 143
    },
    "id": "df51896a",
    "outputId": "400fee87-808b-4432-a2c1-0e368a99d84d",
    "scrolled": true
   },
   "outputs": [
    {
     "data": {
      "text/html": [
       "<div>\n",
       "<style scoped>\n",
       "    .dataframe tbody tr th:only-of-type {\n",
       "        vertical-align: middle;\n",
       "    }\n",
       "\n",
       "    .dataframe tbody tr th {\n",
       "        vertical-align: top;\n",
       "    }\n",
       "\n",
       "    .dataframe thead th {\n",
       "        text-align: right;\n",
       "    }\n",
       "</style>\n",
       "<table border=\"1\" class=\"dataframe\">\n",
       "  <thead>\n",
       "    <tr style=\"text-align: right;\">\n",
       "      <th></th>\n",
       "      <th>Global_Sales</th>\n",
       "    </tr>\n",
       "  </thead>\n",
       "  <tbody>\n",
       "    <tr>\n",
       "      <th>Linear Regression</th>\n",
       "      <td>99.999339</td>\n",
       "    </tr>\n",
       "    <tr>\n",
       "      <th>Lasso Regression</th>\n",
       "      <td>99.999339</td>\n",
       "    </tr>\n",
       "    <tr>\n",
       "      <th>Random forest Regressor</th>\n",
       "      <td>68.504652</td>\n",
       "    </tr>\n",
       "  </tbody>\n",
       "</table>\n",
       "</div>"
      ],
      "text/plain": [
       "                         Global_Sales\n",
       "Linear Regression           99.999339\n",
       "Lasso Regression            99.999339\n",
       "Random forest Regressor     68.504652"
      ]
     },
     "execution_count": 68,
     "metadata": {},
     "output_type": "execute_result"
    }
   ],
   "source": [
    "# Insight\n",
    "cal_metric=pd.DataFrame([rg,lg,r_acc],columns=[\"Global_Sales\"])\n",
    "cal_metric.index=['Linear Regression',\n",
    "                  'Lasso Regression','Random forest Regressor']\n",
    "cal_metric"
   ]
  },
  {
   "cell_type": "markdown",
   "id": "49d5456d",
   "metadata": {
    "id": "49d5456d"
   },
   "source": [
    "The Linear Regression and Lasso Regression have very high accuracy scores, close to 100%, this suggest that they are performing exceptionally well according to the metric. On the other hand, the Random Forest Regressor has a lower accuracy score, around 68.5%, indicating slightly lower performance compared to the other two models according to this metric."
   ]
  },
  {
   "cell_type": "code",
   "execution_count": 69,
   "id": "514e43d2",
   "metadata": {
    "colab": {
     "base_uri": "https://localhost:8080/",
     "height": 432
    },
    "id": "514e43d2",
    "outputId": "3e0f68ca-8bc6-4d86-a293-e25c6bc0fcad"
   },
   "outputs": [
    {
     "data": {
      "image/png": "[encoded data removed]",
      "text/plain": [
       "<Figure size 1000x600 with 1 Axes>"
      ]
     },
     "metadata": {},
     "output_type": "display_data"
    }
   ],
   "source": [
    "import matplotlib.pyplot as plt\n",
    "\n",
    "# Define the models and their accuracy scores\n",
    "models = ['Linear Regression', 'Lasso Regression', 'Random Forest Regressor']\n",
    "accuracy_scores = [99.999339, 99.999339, 68.504652]\n",
    "\n",
    "# Plotting the bar plot\n",
    "plt.figure(figsize=(10, 6))\n",
    "plt.bar(models, accuracy_scores, color=['blue', 'green', 'red'])\n",
    "plt.xlabel('Regression Models')\n",
    "plt.ylabel('Accuracy (%)')\n",
    "plt.title('Accuracy of Regression Models')\n",
    "plt.ylim(0, 110)  # Set y-axis limit to ensure proper visualization\n",
    "plt.show()\n"
   ]
  },
  {
   "cell_type": "markdown",
   "id": "628422f3",
   "metadata": {
    "id": "628422f3"
   },
   "source": [
    "##  Classification Task"
   ]
  },
  {
   "cell_type": "code",
   "execution_count": 70,
   "id": "78e15070",
   "metadata": {
    "id": "78e15070",
    "scrolled": true
   },
   "outputs": [],
   "source": [
    "import numpy as np\n",
    "\n",
    "# Define thresholds for categorizing sales\n",
    "low_sales_threshold = 1  # Define your threshold for low sales\n",
    "high_sales_threshold = 5  # Define your threshold for high sales\n",
    "\n",
    "# Function to categorize sales based on thresholds\n",
    "def categorize_sales(sales):\n",
    "    if sales <= low_sales_threshold:\n",
    "        return \"low sales\"\n",
    "    elif sales <= high_sales_threshold:\n",
    "        return \"medium sales\"\n",
    "    else:\n",
    "        return \"high sales\"\n",
    "\n",
    "# Apply the categorization function to the Global_Sales column\n",
    "dataset['Sales_Category'] = dataset['Global_Sales'].apply(categorize_sales)"
   ]
  },
  {
   "cell_type": "code",
   "execution_count": 71,
   "id": "WtkA69qWjJ_B",
   "metadata": {
    "colab": {
     "base_uri": "https://localhost:8080/"
    },
    "id": "WtkA69qWjJ_B",
    "outputId": "01dbe6ad-49f2-4777-f62d-6bc5d22100c7"
   },
   "outputs": [
    {
     "data": {
      "text/plain": [
       "Sales_Category\n",
       "low sales       14661\n",
       "medium sales     1849\n",
       "high sales        207\n",
       "Name: count, dtype: int64"
      ]
     },
     "execution_count": 71,
     "metadata": {},
     "output_type": "execute_result"
    }
   ],
   "source": [
    "dataset[\"Sales_Category\"].value_counts()"
   ]
  },
  {
   "cell_type": "code",
   "execution_count": 72,
   "id": "f23c2a4e",
   "metadata": {
    "colab": {
     "base_uri": "https://localhost:8080/"
    },
    "id": "f23c2a4e",
    "outputId": "af20a579-672c-4e1d-d8a8-8790c1dce336"
   },
   "outputs": [
    {
     "name": "stdout",
     "output_type": "stream",
     "text": [
      "Counter({'low sales': 11714, 'medium sales': 1498, 'high sales': 161})\n",
      "Counter({'high sales': 30000, 'low sales': 15000, 'medium sales': 15000})\n",
      "Accuracy: 0.9742822966507177\n",
      "Precision: 0.975759233005968\n",
      "Recall: 0.9742822966507177\n",
      "F1-score: 0.9747935028310711\n"
     ]
    }
   ],
   "source": [
    "from collections import Counter\n",
    "from sklearn.model_selection import train_test_split\n",
    "from sklearn.preprocessing import OneHotEncoder\n",
    "from sklearn.ensemble import RandomForestClassifier\n",
    "from sklearn.metrics import accuracy_score, precision_score, recall_score, f1_score\n",
    "from scipy.sparse import hstack\n",
    "# Applying Synthetic Minority Oversampling Technique\n",
    "import imblearn\n",
    "from imblearn.over_sampling import SMOTE\n",
    "from imblearn.under_sampling import RandomUnderSampler\n",
    "from imblearn.pipeline import Pipeline\n",
    "\n",
    "# define pipeline\n",
    "oer_strategy = {\"low sales\":15000,\n",
    "                \"medium sales\":15000,\n",
    "                \"high sales\":30000}\n",
    "over = SMOTE(sampling_strategy=oer_strategy)\n",
    "\n",
    "#und_strategy = {}\n",
    "#under = RandomUnderSampler(sampling_strategy=und_strategy)\n",
    "\n",
    "steps = [('over', over)]\n",
    "pipeline = Pipeline(steps=steps)\n",
    "\n",
    "# Separate the target and feature column in X and y variable\n",
    "target = 'Sales_Category'\n",
    "not_needed = [\"Sales_Category\", \"Global_Sales\"]\n",
    "\n",
    "# X will be the features\n",
    "X = dataset.drop(not_needed,axis=1)\n",
    "#y will be the target variable\n",
    "y = dataset[target]\n",
    "\n",
    "# Split dataset into training and testing sets\n",
    "X_train, X_test, y_train, y_test = train_test_split(X, y, test_size=0.2, random_state=42)\n",
    "\n",
    "#summarize class distribution\n",
    "counter = Counter(y_train)\n",
    "print(counter)\n",
    "\n",
    "# transform the dataset using sampling pipeline\n",
    "X_train, y_train = pipeline.fit_resample(X_train, y_train)\n",
    "\n",
    "# summarize new class distibution\n",
    "counter = Counter(y_train)\n",
    "print(counter)\n",
    "\n",
    "\n",
    "# Perform one-hot encoding on categorical features\n",
    "cat_cols = [\"Platform\",\t\"Genre\", \"Publisher\", \"Developer\", \"Rating\"]\n",
    "encoder = OneHotEncoder(handle_unknown='ignore')  # Handle unknown categories by ignoring them\n",
    "\n",
    "X_train_cat_encoded = encoder.fit_transform(X_train[cat_cols])\n",
    "X_test_cat_encoded = encoder.transform(X_test[cat_cols])\n",
    "\n",
    "# Drop categorical columns from X_train and X_test\n",
    "X_train_numeric = X_train.drop(columns=cat_cols)\n",
    "X_test_numeric = X_test.drop(columns=cat_cols)\n",
    "\n",
    "X_train_encoded = hstack((X_train_numeric.values, X_train_cat_encoded))\n",
    "X_test_encoded = hstack((X_test_numeric.values, X_test_cat_encoded))\n",
    "\n",
    "\n",
    "# Initialize and train the classification model (Random Forest)\n",
    "model = RandomForestClassifier()\n",
    "model.fit(X_train_encoded, y_train)\n",
    "\n",
    "# Make predictions on the test data\n",
    "y_pred = model.predict(X_test_encoded)\n",
    "\n",
    "# Evaluate model performance\n",
    "accuracy = accuracy_score(y_test, y_pred)\n",
    "precision = precision_score(y_test, y_pred, average='weighted')\n",
    "recall = recall_score(y_test, y_pred, average='weighted')\n",
    "f1 = f1_score(y_test, y_pred, average='weighted')\n",
    "\n",
    "# Print evaluation metrics\n",
    "print(\"Accuracy:\", accuracy)\n",
    "print(\"Precision:\", precision)\n",
    "print(\"Recall:\", recall)\n",
    "print(\"F1-score:\", f1)\n"
   ]
  },
  {
   "cell_type": "code",
   "execution_count": 73,
   "id": "xy15tSNDbfqR",
   "metadata": {
    "colab": {
     "base_uri": "https://localhost:8080/"
    },
    "id": "xy15tSNDbfqR",
    "outputId": "12e83f9b-cb0f-467e-ced9-cdf749ff89ae"
   },
   "outputs": [
    {
     "data": {
      "text/plain": [
       "((60000, 2335), (3344, 2335), (60000,), (3344,))"
      ]
     },
     "execution_count": 73,
     "metadata": {},
     "output_type": "execute_result"
    }
   ],
   "source": [
    "\n",
    "X_train_encoded.shape, X_test_encoded.shape, y_train.shape, y_test.shape"
   ]
  },
  {
   "cell_type": "code",
   "execution_count": 74,
   "id": "EeaRRnMuti9L",
   "metadata": {
    "colab": {
     "base_uri": "https://localhost:8080/"
    },
    "id": "EeaRRnMuti9L",
    "outputId": "c81be1e7-4924-4aa7-8cac-7b6555233c36"
   },
   "outputs": [
    {
     "data": {
      "text/plain": [
       "0           low sales\n",
       "1           low sales\n",
       "2           low sales\n",
       "3           low sales\n",
       "4           low sales\n",
       "             ...     \n",
       "59995    medium sales\n",
       "59996    medium sales\n",
       "59997    medium sales\n",
       "59998    medium sales\n",
       "59999    medium sales\n",
       "Name: Sales_Category, Length: 60000, dtype: object"
      ]
     },
     "execution_count": 74,
     "metadata": {},
     "output_type": "execute_result"
    }
   ],
   "source": [
    "y_train\n",
    "\n"
   ]
  },
  {
   "cell_type": "markdown",
   "id": "f06ec413",
   "metadata": {
    "id": "f06ec413"
   },
   "source": [
    "## Model Evaluation"
   ]
  },
  {
   "cell_type": "code",
   "execution_count": 75,
   "id": "40da6bfd",
   "metadata": {
    "colab": {
     "base_uri": "https://localhost:8080/"
    },
    "id": "40da6bfd",
    "outputId": "56bdabe0-2335-4dbb-ad97-0f265c6e4d2e",
    "scrolled": true
   },
   "outputs": [
    {
     "name": "stdout",
     "output_type": "stream",
     "text": [
      "Cross-Validation Scores: [0.9935     0.99491667 0.99383333 0.99483333 0.99283333]\n",
      "Mean CV Score: 0.9939833333333332\n",
      "Train Accuracy: 1.0\n",
      "Test Accuracy: 0.9766746411483254\n",
      "Precision: 0.9782280000923709\n",
      "Recall: 0.9766746411483254\n",
      "F1-score: 0.9771582505891038\n"
     ]
    }
   ],
   "source": [
    "from sklearn.model_selection import cross_val_score\n",
    "from sklearn.metrics import accuracy_score, precision_score, recall_score, f1_score\n",
    "from sklearn.ensemble import RandomForestClassifier\n",
    "import matplotlib.pyplot as plt\n",
    "\n",
    "# Initialize the model\n",
    "model = RandomForestClassifier()\n",
    "\n",
    "# Cross-validation\n",
    "cv_scores = cross_val_score(model, X_train_encoded, y_train, cv=5)\n",
    "print(\"Cross-Validation Scores:\", cv_scores)\n",
    "print(\"Mean CV Score:\", cv_scores.mean())\n",
    "\n",
    "# Train the model\n",
    "model.fit(X_train_encoded, y_train)\n",
    "\n",
    "# Predictions\n",
    "y_pred_train = model.predict(X_train_encoded)\n",
    "y_pred_test = model.predict(X_test_encoded)\n",
    "\n",
    "# Performance Metrics\n",
    "train_accuracy = accuracy_score(y_train, y_pred_train)\n",
    "test_accuracy = accuracy_score(y_test, y_pred_test)\n",
    "precision = precision_score(y_test, y_pred_test, average='weighted')\n",
    "recall = recall_score(y_test, y_pred_test, average='weighted')\n",
    "f1 = f1_score(y_test, y_pred_test, average='weighted')\n",
    "\n",
    "print(\"Train Accuracy:\", train_accuracy)\n",
    "print(\"Test Accuracy:\", test_accuracy)\n",
    "print(\"Precision:\", precision)\n",
    "print(\"Recall:\", recall)\n",
    "print(\"F1-score:\", f1)\n"
   ]
  },
  {
   "cell_type": "code",
   "execution_count": 76,
   "id": "f7696453",
   "metadata": {
    "colab": {
     "base_uri": "https://localhost:8080/",
     "height": 472
    },
    "id": "f7696453",
    "outputId": "b335867a-c082-42f4-ccda-413b0b3c5a45"
   },
   "outputs": [
    {
     "data": {
      "image/png": "[encoded data removed]",
      "text/plain": [
       "<Figure size 640x480 with 1 Axes>"
      ]
     },
     "metadata": {},
     "output_type": "display_data"
    }
   ],
   "source": [
    "# Model Complexity Analysis\n",
    "max_depths = range(1, 20)\n",
    "train_scores = []\n",
    "test_scores = []\n",
    "\n",
    "for depth in max_depths:\n",
    "    model = RandomForestClassifier(max_depth=depth)\n",
    "    model.fit(X_train_encoded, y_train)\n",
    "    train_scores.append(model.score(X_train_encoded, y_train))\n",
    "    test_scores.append(model.score(X_test_encoded, y_test))\n",
    "\n",
    "# Visualization\n",
    "plt.plot(max_depths, train_scores, 'b', label='Train Accuracy')\n",
    "plt.plot(max_depths, test_scores, 'r', label='Test Accuracy')\n",
    "plt.xlabel('Max Depth')\n",
    "plt.ylabel('Accuracy')\n",
    "plt.title('Model Complexity Analysis')\n",
    "plt.legend()\n",
    "plt.show()\n"
   ]
  },
  {
   "cell_type": "code",
   "execution_count": 77,
   "id": "37d7163d",
   "metadata": {
    "colab": {
     "base_uri": "https://localhost:8080/"
    },
    "id": "37d7163d",
    "outputId": "18618031-83d7-49fc-acd3-5733ea36759a"
   },
   "outputs": [
    {
     "name": "stdout",
     "output_type": "stream",
     "text": [
      "Best Parameters: {'max_depth': None, 'min_samples_leaf': 1, 'min_samples_split': 2, 'n_estimators': 100}\n"
     ]
    }
   ],
   "source": [
    "from sklearn.model_selection import GridSearchCV\n",
    "\n",
    "# Hyperparameter Tuning\n",
    "param_grid = {\n",
    "    'n_estimators': [50, 100, 200],\n",
    "    'max_depth': [None, 10, 20],\n",
    "    'min_samples_split': [2, 5, 10],\n",
    "    'min_samples_leaf': [1, 2, 4]\n",
    "}\n",
    "grid_search = GridSearchCV(model, param_grid, cv=5)\n",
    "grid_search.fit(X_train_encoded, y_train)\n",
    "print(\"Best Parameters:\", grid_search.best_params_)"
   ]
  },
  {
   "cell_type": "code",
   "execution_count": 78,
   "id": "er_x8bcNkY0T",
   "metadata": {
    "colab": {
     "base_uri": "https://localhost:8080/"
    },
    "id": "er_x8bcNkY0T",
    "outputId": "ca31be96-22cd-4810-9abd-543d350f0de0"
   },
   "outputs": [
    {
     "data": {
      "text/plain": [
       "array([[  39,    0,    7],\n",
       "       [   0, 2896,   51],\n",
       "       [   4,   16,  331]], dtype=int64)"
      ]
     },
     "execution_count": 78,
     "metadata": {},
     "output_type": "execute_result"
    }
   ],
   "source": [
    "from sklearn.metrics import confusion_matrix\n",
    "conf_mx = confusion_matrix(y_test, y_pred_test)\n",
    "conf_mx"
   ]
  },
  {
   "cell_type": "markdown",
   "id": "dfc22d31",
   "metadata": {
    "id": "dfc22d31"
   },
   "source": [
    "## Model Deployment and Hosting\n",
    "\n",
    "Next we are going to save the model for deployment and hosting in pickel format file."
   ]
  },
  {
   "cell_type": "code",
   "execution_count": 79,
   "id": "r6H2iezzaHo7",
   "metadata": {
    "id": "r6H2iezzaHo7"
   },
   "outputs": [],
   "source": [
    "import pickle\n",
    "\n",
    "model_path = \"classification_model.pkl\"\n",
    "\n",
    "# save the label encoder\n",
    "with open(model_path, 'wb') as model_file:\n",
    "    pickle.dump(model, model_file)"
   ]
  },
  {
   "cell_type": "code",
   "execution_count": 80,
   "id": "2CEiw6u1b3Vj",
   "metadata": {
    "id": "2CEiw6u1b3Vj"
   },
   "outputs": [],
   "source": [
    "encoder_path = \"encoder.pkl\"\n",
    "\n",
    "# save the label encoder\n",
    "with open(encoder_path, 'wb') as encoder_file:\n",
    "    pickle.dump(encoder, encoder_file)"
   ]
  },
  {
   "cell_type": "code",
   "execution_count": 81,
   "id": "uj4Vl0yfyp2A",
   "metadata": {
    "id": "uj4Vl0yfyp2A"
   },
   "outputs": [],
   "source": [
    "reg_path = \"regression_model.pkl\"\n",
    "\n",
    "# save the label encoder\n",
    "with open(reg_path, 'wb') as reg_file:\n",
    "    pickle.dump(clf, reg_file)"
   ]
  },
  {
   "cell_type": "code",
   "execution_count": 82,
   "id": "vmWBh4-TxwY5",
   "metadata": {
    "id": "vmWBh4-TxwY5"
   },
   "outputs": [],
   "source": [
    "label_path = \"label_encoder.pkl\"\n",
    "\n",
    "# save the label encoder\n",
    "with open(label_path, 'wb') as label_file:\n",
    "    pickle.dump(le, label_file)"
   ]
  },
  {
   "cell_type": "code",
   "execution_count": 84,
   "id": "543b8fe1-2a86-4efa-a8bd-b7973eab742a",
   "metadata": {},
   "outputs": [
    {
     "data": {
      "text/plain": [
       "<60000x2335 sparse matrix of type '<class 'numpy.float64'>'\n",
       "\twith 809384 stored elements in COOrdinate format>"
      ]
     },
     "execution_count": 84,
     "metadata": {},
     "output_type": "execute_result"
    }
   ],
   "source": [
    "X_train_encoded"
   ]
  },
  {
   "cell_type": "code",
   "execution_count": 85,
   "id": "a67a06ea",
   "metadata": {
    "id": "a67a06ea"
   },
   "outputs": [
    {
     "name": "stdout",
     "output_type": "stream",
     "text": [
      "Classification Model saved to model_classification.pkl\n"
     ]
    }
   ],
   "source": [
    "import pickle\n",
    "from sklearn.ensemble import RandomForestClassifier\n",
    "from sklearn.datasets import make_classification\n",
    "\n",
    "# Generate some example classification data\n",
    "#X_classification, y_classification = make_classification(n_samples=100, n_features=14, n_classes=3, random_state=42)\n",
    "\n",
    "# Initialize and train your classification model\n",
    "model_classification = RandomForestClassifier(n_estimators=100, min_samples_leaf=1, min_samples_split=2, random_state=42)\n",
    "model_classification.fit(X_train_encoded, y_train)\n",
    "\n",
    "# Specify the file path where you want to save the pickled model\n",
    "file_path_classification = 'model_classification.pkl'\n",
    "\n",
    "# Save the trained classification model to a file using pickle\n",
    "with open(file_path_classification, 'wb') as f:\n",
    "    pickle.dump(model_classification, f)\n",
    "\n",
    "print(f\"Classification Model saved to {file_path_classification}\")\n"
   ]
  },
  {
   "cell_type": "code",
   "execution_count": null,
   "id": "2714e7c7",
   "metadata": {
    "id": "2714e7c7"
   },
   "outputs": [],
   "source": [
    "import pickle\n",
    "from sklearn.linear_model import Lasso\n",
    "from sklearn.datasets import make_regression\n",
    "\n",
    "# Generate some example data\n",
    "#X, y = make_regression(n_samples=100, n_features=14, noise=0.1, random_state=42)\n",
    "\n",
    "# Initialize and train your model\n",
    "#model = Lasso(alpha=0.1)\n",
    "#model.fit(X, y)\n",
    "\n",
    "# Specify the file path where you want to save the pickled model\n",
    "#file_path = 'regression_model.pkl'\n",
    "\n",
    "# Save the trained model to a file using pickle\n",
    "#with open(file_path, 'wb') as f:\n",
    "#    pickle.dump(model, f)\n",
    "\n",
    "#print(f\"Model saved to {file_path}\")\n"
   ]
  },
  {
   "cell_type": "code",
   "execution_count": null,
   "id": "0ce6087b",
   "metadata": {
    "id": "0ce6087b"
   },
   "outputs": [],
   "source": [
    "import pickle\n",
    "\n",
    "# Specify the file path from which you want to load the pickled model\n",
    "#file_path = 'model_regression.pkl'\n",
    "\n",
    "# Load the pickled model from the file\n",
    "#with open(file_path, 'rb') as f:\n",
    "#    loaded_model = pickle.load(f)\n",
    "\n",
    "#print(\"Model loaded successfully\")\n",
    "\n",
    "# load the pickled label encoder from file\n",
    "#with open(\"encoder.pkl\", \"rb\") as fenc:\n",
    "#    loaded_pickle = pickle.load(fenc)\n",
    "\n",
    "#print(\"encoder loaded succesfully\")"
   ]
  },
  {
   "cell_type": "code",
   "execution_count": null,
   "id": "5a50a241",
   "metadata": {
    "id": "5a50a241"
   },
   "outputs": [],
   "source": [
    "# Save the modified dataset to a new CSV file\n",
    "dataset.to_csv('modified_video_games.csv', index=False)\n"
   ]
  },
  {
   "cell_type": "code",
   "execution_count": null,
   "id": "bb56ca8b",
   "metadata": {
    "id": "bb56ca8b"
   },
   "outputs": [],
   "source": []
  }
 ],
 "metadata": {
  "colab": {
   "provenance": []
  },
  "kernelspec": {
   "display_name": "Python 3 (ipykernel)",
   "language": "python",
   "name": "python3"
  },
  "language_info": {
   "codemirror_mode": {
    "name": "ipython",
    "version": 3
   },
   "file_extension": ".py",
   "mimetype": "text/x-python",
   "name": "python",
   "nbconvert_exporter": "python",
   "pygments_lexer": "ipython3",
   "version": "3.11.7"
  }
 },
 "nbformat": 4,
 "nbformat_minor": 5
}
